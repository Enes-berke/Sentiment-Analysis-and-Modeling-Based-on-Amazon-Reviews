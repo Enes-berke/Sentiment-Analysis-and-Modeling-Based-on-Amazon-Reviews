{
 "cells": [
  {
   "cell_type": "markdown",
   "id": "3d2b12c3",
   "metadata": {},
   "source": [
    "# Amazon Yorumları Üzerinden Duygu Analizi ve Modelleme"
   ]
  },
  {
   "cell_type": "code",
   "execution_count": 1,
   "id": "d321bbb9",
   "metadata": {},
   "outputs": [],
   "source": [
    "# 1. Text Preprocessing\n",
    "# 2. Text Visualization\n",
    "# 3. Sentiment Analysis\n",
    "# 4. Feature Engineering\n",
    "# 5. Sentiment Modeling"
   ]
  },
  {
   "cell_type": "code",
   "execution_count": 2,
   "id": "311d7921",
   "metadata": {},
   "outputs": [
    {
     "name": "stdout",
     "output_type": "stream",
     "text": [
      "Requirement already satisfied: nltk in c:\\users\\asus\\anaconda3\\lib\\site-packages (3.8.1)\n",
      "Requirement already satisfied: click in c:\\users\\asus\\anaconda3\\lib\\site-packages (from nltk) (8.1.7)\n",
      "Requirement already satisfied: joblib in c:\\users\\asus\\anaconda3\\lib\\site-packages (from nltk) (1.2.0)\n",
      "Requirement already satisfied: regex>=2021.8.3 in c:\\users\\asus\\anaconda3\\lib\\site-packages (from nltk) (2023.10.3)\n",
      "Requirement already satisfied: tqdm in c:\\users\\asus\\anaconda3\\lib\\site-packages (from nltk) (4.65.0)\n",
      "Requirement already satisfied: colorama in c:\\users\\asus\\anaconda3\\lib\\site-packages (from click->nltk) (0.4.6)\n"
     ]
    }
   ],
   "source": [
    "!pip install nltk"
   ]
  },
  {
   "cell_type": "code",
   "execution_count": 3,
   "id": "8696bc73",
   "metadata": {},
   "outputs": [
    {
     "name": "stdout",
     "output_type": "stream",
     "text": [
      "Requirement already satisfied: textblob in c:\\users\\asus\\anaconda3\\lib\\site-packages (0.18.0.post0)\n",
      "Requirement already satisfied: nltk>=3.8 in c:\\users\\asus\\anaconda3\\lib\\site-packages (from textblob) (3.8.1)\n",
      "Requirement already satisfied: click in c:\\users\\asus\\anaconda3\\lib\\site-packages (from nltk>=3.8->textblob) (8.1.7)\n",
      "Requirement already satisfied: joblib in c:\\users\\asus\\anaconda3\\lib\\site-packages (from nltk>=3.8->textblob) (1.2.0)\n",
      "Requirement already satisfied: regex>=2021.8.3 in c:\\users\\asus\\anaconda3\\lib\\site-packages (from nltk>=3.8->textblob) (2023.10.3)\n",
      "Requirement already satisfied: tqdm in c:\\users\\asus\\anaconda3\\lib\\site-packages (from nltk>=3.8->textblob) (4.65.0)\n",
      "Requirement already satisfied: colorama in c:\\users\\asus\\anaconda3\\lib\\site-packages (from click->nltk>=3.8->textblob) (0.4.6)\n"
     ]
    }
   ],
   "source": [
    "!pip install textblob"
   ]
  },
  {
   "cell_type": "code",
   "execution_count": 4,
   "id": "3f431a1a",
   "metadata": {},
   "outputs": [
    {
     "name": "stdout",
     "output_type": "stream",
     "text": [
      "Requirement already satisfied: wordcloud in c:\\users\\asus\\anaconda3\\lib\\site-packages (1.9.3)\n",
      "Requirement already satisfied: numpy>=1.6.1 in c:\\users\\asus\\anaconda3\\lib\\site-packages (from wordcloud) (1.26.4)\n",
      "Requirement already satisfied: pillow in c:\\users\\asus\\anaconda3\\lib\\site-packages (from wordcloud) (10.2.0)\n",
      "Requirement already satisfied: matplotlib in c:\\users\\asus\\anaconda3\\lib\\site-packages (from wordcloud) (3.8.0)\n",
      "Requirement already satisfied: contourpy>=1.0.1 in c:\\users\\asus\\anaconda3\\lib\\site-packages (from matplotlib->wordcloud) (1.2.0)\n",
      "Requirement already satisfied: cycler>=0.10 in c:\\users\\asus\\anaconda3\\lib\\site-packages (from matplotlib->wordcloud) (0.11.0)\n",
      "Requirement already satisfied: fonttools>=4.22.0 in c:\\users\\asus\\anaconda3\\lib\\site-packages (from matplotlib->wordcloud) (4.25.0)\n",
      "Requirement already satisfied: kiwisolver>=1.0.1 in c:\\users\\asus\\anaconda3\\lib\\site-packages (from matplotlib->wordcloud) (1.4.4)\n",
      "Requirement already satisfied: packaging>=20.0 in c:\\users\\asus\\anaconda3\\lib\\site-packages (from matplotlib->wordcloud) (23.1)\n",
      "Requirement already satisfied: pyparsing>=2.3.1 in c:\\users\\asus\\anaconda3\\lib\\site-packages (from matplotlib->wordcloud) (3.0.9)\n",
      "Requirement already satisfied: python-dateutil>=2.7 in c:\\users\\asus\\anaconda3\\lib\\site-packages (from matplotlib->wordcloud) (2.8.2)\n",
      "Requirement already satisfied: six>=1.5 in c:\\users\\asus\\anaconda3\\lib\\site-packages (from python-dateutil>=2.7->matplotlib->wordcloud) (1.16.0)\n"
     ]
    }
   ],
   "source": [
    "!pip install wordcloud"
   ]
  },
  {
   "cell_type": "code",
   "execution_count": 5,
   "id": "61b83805",
   "metadata": {},
   "outputs": [],
   "source": [
    "from warnings import filterwarnings\n",
    "import matplotlib.pyplot as plt\n",
    "import numpy as np\n",
    "import pandas as pd\n",
    "from PIL import Image\n",
    "from nltk.corpus import stopwords\n",
    "from nltk.sentiment import SentimentIntensityAnalyzer\n",
    "\n",
    "from sklearn.ensemble import RandomForestClassifier\n",
    "from sklearn.linear_model import LogisticRegression\n",
    "from sklearn.model_selection import cross_val_score, GridSearchCV, cross_validate\n",
    "from sklearn.preprocessing import LabelEncoder\n",
    "from textblob import Word, TextBlob\n",
    "from wordcloud import WordCloud"
   ]
  },
  {
   "cell_type": "code",
   "execution_count": 6,
   "id": "7bec45f5",
   "metadata": {},
   "outputs": [],
   "source": [
    "filterwarnings('ignore')\n",
    "pd.set_option('display.max_columns', None)\n",
    "pd.set_option('display.width', 200)\n",
    "pd.set_option('display.float_format', lambda x: '%.2f' % x)"
   ]
  },
  {
   "cell_type": "code",
   "execution_count": 7,
   "id": "01cbecf2",
   "metadata": {},
   "outputs": [],
   "source": [
    "# 1. Text Preprocessing"
   ]
  },
  {
   "cell_type": "code",
   "execution_count": 8,
   "id": "7e39d8db",
   "metadata": {},
   "outputs": [],
   "source": [
    "df = pd.read_csv(\"C:/Users/ASUS/Desktop/YAZ KAMPI/10 - Doğal Dil İşleme ( NLP )/amazon_reviews.csv\")"
   ]
  },
  {
   "cell_type": "code",
   "execution_count": 9,
   "id": "3854b09a",
   "metadata": {},
   "outputs": [
    {
     "data": {
      "text/html": [
       "<div>\n",
       "<style scoped>\n",
       "    .dataframe tbody tr th:only-of-type {\n",
       "        vertical-align: middle;\n",
       "    }\n",
       "\n",
       "    .dataframe tbody tr th {\n",
       "        vertical-align: top;\n",
       "    }\n",
       "\n",
       "    .dataframe thead th {\n",
       "        text-align: right;\n",
       "    }\n",
       "</style>\n",
       "<table border=\"1\" class=\"dataframe\">\n",
       "  <thead>\n",
       "    <tr style=\"text-align: right;\">\n",
       "      <th></th>\n",
       "      <th>reviewerID</th>\n",
       "      <th>asin</th>\n",
       "      <th>reviewerName</th>\n",
       "      <th>helpful</th>\n",
       "      <th>reviewText</th>\n",
       "      <th>overall</th>\n",
       "      <th>summary</th>\n",
       "      <th>unixReviewTime</th>\n",
       "      <th>reviewTime</th>\n",
       "      <th>day_diff</th>\n",
       "      <th>helpful_yes</th>\n",
       "      <th>total_vote</th>\n",
       "    </tr>\n",
       "  </thead>\n",
       "  <tbody>\n",
       "    <tr>\n",
       "      <th>0</th>\n",
       "      <td>A3SBTW3WS4IQSN</td>\n",
       "      <td>B007WTAJTO</td>\n",
       "      <td>NaN</td>\n",
       "      <td>[0, 0]</td>\n",
       "      <td>No issues.</td>\n",
       "      <td>4.00</td>\n",
       "      <td>Four Stars</td>\n",
       "      <td>1406073600</td>\n",
       "      <td>2014-07-23</td>\n",
       "      <td>138</td>\n",
       "      <td>0</td>\n",
       "      <td>0</td>\n",
       "    </tr>\n",
       "    <tr>\n",
       "      <th>1</th>\n",
       "      <td>A18K1ODH1I2MVB</td>\n",
       "      <td>B007WTAJTO</td>\n",
       "      <td>0mie</td>\n",
       "      <td>[0, 0]</td>\n",
       "      <td>Purchased this for my device, it worked as adv...</td>\n",
       "      <td>5.00</td>\n",
       "      <td>MOAR SPACE!!!</td>\n",
       "      <td>1382659200</td>\n",
       "      <td>2013-10-25</td>\n",
       "      <td>409</td>\n",
       "      <td>0</td>\n",
       "      <td>0</td>\n",
       "    </tr>\n",
       "    <tr>\n",
       "      <th>2</th>\n",
       "      <td>A2FII3I2MBMUIA</td>\n",
       "      <td>B007WTAJTO</td>\n",
       "      <td>1K3</td>\n",
       "      <td>[0, 0]</td>\n",
       "      <td>it works as expected. I should have sprung for...</td>\n",
       "      <td>4.00</td>\n",
       "      <td>nothing to really say....</td>\n",
       "      <td>1356220800</td>\n",
       "      <td>2012-12-23</td>\n",
       "      <td>715</td>\n",
       "      <td>0</td>\n",
       "      <td>0</td>\n",
       "    </tr>\n",
       "    <tr>\n",
       "      <th>3</th>\n",
       "      <td>A3H99DFEG68SR</td>\n",
       "      <td>B007WTAJTO</td>\n",
       "      <td>1m2</td>\n",
       "      <td>[0, 0]</td>\n",
       "      <td>This think has worked out great.Had a diff. br...</td>\n",
       "      <td>5.00</td>\n",
       "      <td>Great buy at this price!!!  *** UPDATE</td>\n",
       "      <td>1384992000</td>\n",
       "      <td>2013-11-21</td>\n",
       "      <td>382</td>\n",
       "      <td>0</td>\n",
       "      <td>0</td>\n",
       "    </tr>\n",
       "    <tr>\n",
       "      <th>4</th>\n",
       "      <td>A375ZM4U047O79</td>\n",
       "      <td>B007WTAJTO</td>\n",
       "      <td>2&amp;amp;1/2Men</td>\n",
       "      <td>[0, 0]</td>\n",
       "      <td>Bought it with Retail Packaging, arrived legit...</td>\n",
       "      <td>5.00</td>\n",
       "      <td>best deal around</td>\n",
       "      <td>1373673600</td>\n",
       "      <td>2013-07-13</td>\n",
       "      <td>513</td>\n",
       "      <td>0</td>\n",
       "      <td>0</td>\n",
       "    </tr>\n",
       "  </tbody>\n",
       "</table>\n",
       "</div>"
      ],
      "text/plain": [
       "       reviewerID        asin  reviewerName helpful                                         reviewText  overall                                 summary  unixReviewTime  reviewTime  day_diff  \\\n",
       "0  A3SBTW3WS4IQSN  B007WTAJTO           NaN  [0, 0]                                         No issues.     4.00                              Four Stars      1406073600  2014-07-23       138   \n",
       "1  A18K1ODH1I2MVB  B007WTAJTO          0mie  [0, 0]  Purchased this for my device, it worked as adv...     5.00                           MOAR SPACE!!!      1382659200  2013-10-25       409   \n",
       "2  A2FII3I2MBMUIA  B007WTAJTO           1K3  [0, 0]  it works as expected. I should have sprung for...     4.00               nothing to really say....      1356220800  2012-12-23       715   \n",
       "3   A3H99DFEG68SR  B007WTAJTO           1m2  [0, 0]  This think has worked out great.Had a diff. br...     5.00  Great buy at this price!!!  *** UPDATE      1384992000  2013-11-21       382   \n",
       "4  A375ZM4U047O79  B007WTAJTO  2&amp;1/2Men  [0, 0]  Bought it with Retail Packaging, arrived legit...     5.00                        best deal around      1373673600  2013-07-13       513   \n",
       "\n",
       "   helpful_yes  total_vote  \n",
       "0            0           0  \n",
       "1            0           0  \n",
       "2            0           0  \n",
       "3            0           0  \n",
       "4            0           0  "
      ]
     },
     "execution_count": 9,
     "metadata": {},
     "output_type": "execute_result"
    }
   ],
   "source": [
    "df.head()"
   ]
  },
  {
   "cell_type": "code",
   "execution_count": 10,
   "id": "84a520af",
   "metadata": {},
   "outputs": [],
   "source": [
    "# Normalizing Case Folding"
   ]
  },
  {
   "cell_type": "code",
   "execution_count": 11,
   "id": "e8f164cc",
   "metadata": {},
   "outputs": [],
   "source": [
    "df['reviewText'] = df['reviewText'].str.lower()"
   ]
  },
  {
   "cell_type": "code",
   "execution_count": 12,
   "id": "17d1f6e1",
   "metadata": {},
   "outputs": [
    {
     "data": {
      "text/plain": [
       "0                                              no issues.\n",
       "1       purchased this for my device, it worked as adv...\n",
       "2       it works as expected. i should have sprung for...\n",
       "3       this think has worked out great.had a diff. br...\n",
       "4       bought it with retail packaging, arrived legit...\n",
       "                              ...                        \n",
       "4910    i bought this sandisk 16gb class 10 to use wit...\n",
       "4911    used this for extending the capabilities of my...\n",
       "4912    great card that is very fast and reliable. it ...\n",
       "4913    good amount of space for the stuff i want to d...\n",
       "4914    i've heard bad things about this 64gb micro sd...\n",
       "Name: reviewText, Length: 4915, dtype: object"
      ]
     },
     "execution_count": 12,
     "metadata": {},
     "output_type": "execute_result"
    }
   ],
   "source": [
    "df['reviewText']"
   ]
  },
  {
   "cell_type": "code",
   "execution_count": 13,
   "id": "81d0abdd",
   "metadata": {},
   "outputs": [],
   "source": [
    "# Punctuations"
   ]
  },
  {
   "cell_type": "code",
   "execution_count": 14,
   "id": "0d1b4a1c",
   "metadata": {},
   "outputs": [],
   "source": [
    "df['reviewText'] = df['reviewText'].str.replace('[^\\w\\s]', '', regex=True)"
   ]
  },
  {
   "cell_type": "code",
   "execution_count": 15,
   "id": "31846716",
   "metadata": {},
   "outputs": [
    {
     "data": {
      "text/plain": [
       "0                                               no issues\n",
       "1       purchased this for my device it worked as adve...\n",
       "2       it works as expected i should have sprung for ...\n",
       "3       this think has worked out greathad a diff bran...\n",
       "4       bought it with retail packaging arrived legit ...\n",
       "                              ...                        \n",
       "4910    i bought this sandisk 16gb class 10 to use wit...\n",
       "4911    used this for extending the capabilities of my...\n",
       "4912    great card that is very fast and reliable it c...\n",
       "4913    good amount of space for the stuff i want to d...\n",
       "4914    ive heard bad things about this 64gb micro sd ...\n",
       "Name: reviewText, Length: 4915, dtype: object"
      ]
     },
     "execution_count": 15,
     "metadata": {},
     "output_type": "execute_result"
    }
   ],
   "source": [
    "df['reviewText']"
   ]
  },
  {
   "cell_type": "code",
   "execution_count": 16,
   "id": "47ddc48a",
   "metadata": {},
   "outputs": [],
   "source": [
    "# Numbers"
   ]
  },
  {
   "cell_type": "code",
   "execution_count": 17,
   "id": "f9c8f887",
   "metadata": {},
   "outputs": [],
   "source": [
    "df['reviewText'] = df['reviewText'].str.replace('\\d', '', regex=True)"
   ]
  },
  {
   "cell_type": "code",
   "execution_count": 18,
   "id": "4db07a5f",
   "metadata": {},
   "outputs": [
    {
     "data": {
      "text/plain": [
       "0                                               no issues\n",
       "1       purchased this for my device it worked as adve...\n",
       "2       it works as expected i should have sprung for ...\n",
       "3       this think has worked out greathad a diff bran...\n",
       "4       bought it with retail packaging arrived legit ...\n",
       "                              ...                        \n",
       "4910    i bought this sandisk gb class  to use with my...\n",
       "4911    used this for extending the capabilities of my...\n",
       "4912    great card that is very fast and reliable it c...\n",
       "4913    good amount of space for the stuff i want to d...\n",
       "4914    ive heard bad things about this gb micro sd ca...\n",
       "Name: reviewText, Length: 4915, dtype: object"
      ]
     },
     "execution_count": 18,
     "metadata": {},
     "output_type": "execute_result"
    }
   ],
   "source": [
    "df['reviewText']"
   ]
  },
  {
   "cell_type": "code",
   "execution_count": 19,
   "id": "3e2ba390",
   "metadata": {},
   "outputs": [],
   "source": [
    "# Stopwords"
   ]
  },
  {
   "cell_type": "code",
   "execution_count": 20,
   "id": "ecb30ace",
   "metadata": {},
   "outputs": [],
   "source": [
    "import nltk"
   ]
  },
  {
   "cell_type": "code",
   "execution_count": 21,
   "id": "dc96372a",
   "metadata": {},
   "outputs": [
    {
     "name": "stderr",
     "output_type": "stream",
     "text": [
      "[nltk_data] Downloading package stopwords to\n",
      "[nltk_data]     C:\\Users\\ASUS\\AppData\\Roaming\\nltk_data...\n",
      "[nltk_data]   Package stopwords is already up-to-date!\n"
     ]
    },
    {
     "data": {
      "text/plain": [
       "True"
      ]
     },
     "execution_count": 21,
     "metadata": {},
     "output_type": "execute_result"
    }
   ],
   "source": [
    " nltk.download('stopwords')"
   ]
  },
  {
   "cell_type": "code",
   "execution_count": 22,
   "id": "b2c54500",
   "metadata": {},
   "outputs": [],
   "source": [
    "sw = stopwords.words('english')"
   ]
  },
  {
   "cell_type": "code",
   "execution_count": 23,
   "id": "e0652a7f",
   "metadata": {},
   "outputs": [
    {
     "data": {
      "text/plain": [
       "['i',\n",
       " 'me',\n",
       " 'my',\n",
       " 'myself',\n",
       " 'we',\n",
       " 'our',\n",
       " 'ours',\n",
       " 'ourselves',\n",
       " 'you',\n",
       " \"you're\",\n",
       " \"you've\",\n",
       " \"you'll\",\n",
       " \"you'd\",\n",
       " 'your',\n",
       " 'yours',\n",
       " 'yourself',\n",
       " 'yourselves',\n",
       " 'he',\n",
       " 'him',\n",
       " 'his',\n",
       " 'himself',\n",
       " 'she',\n",
       " \"she's\",\n",
       " 'her',\n",
       " 'hers',\n",
       " 'herself',\n",
       " 'it',\n",
       " \"it's\",\n",
       " 'its',\n",
       " 'itself',\n",
       " 'they',\n",
       " 'them',\n",
       " 'their',\n",
       " 'theirs',\n",
       " 'themselves',\n",
       " 'what',\n",
       " 'which',\n",
       " 'who',\n",
       " 'whom',\n",
       " 'this',\n",
       " 'that',\n",
       " \"that'll\",\n",
       " 'these',\n",
       " 'those',\n",
       " 'am',\n",
       " 'is',\n",
       " 'are',\n",
       " 'was',\n",
       " 'were',\n",
       " 'be',\n",
       " 'been',\n",
       " 'being',\n",
       " 'have',\n",
       " 'has',\n",
       " 'had',\n",
       " 'having',\n",
       " 'do',\n",
       " 'does',\n",
       " 'did',\n",
       " 'doing',\n",
       " 'a',\n",
       " 'an',\n",
       " 'the',\n",
       " 'and',\n",
       " 'but',\n",
       " 'if',\n",
       " 'or',\n",
       " 'because',\n",
       " 'as',\n",
       " 'until',\n",
       " 'while',\n",
       " 'of',\n",
       " 'at',\n",
       " 'by',\n",
       " 'for',\n",
       " 'with',\n",
       " 'about',\n",
       " 'against',\n",
       " 'between',\n",
       " 'into',\n",
       " 'through',\n",
       " 'during',\n",
       " 'before',\n",
       " 'after',\n",
       " 'above',\n",
       " 'below',\n",
       " 'to',\n",
       " 'from',\n",
       " 'up',\n",
       " 'down',\n",
       " 'in',\n",
       " 'out',\n",
       " 'on',\n",
       " 'off',\n",
       " 'over',\n",
       " 'under',\n",
       " 'again',\n",
       " 'further',\n",
       " 'then',\n",
       " 'once',\n",
       " 'here',\n",
       " 'there',\n",
       " 'when',\n",
       " 'where',\n",
       " 'why',\n",
       " 'how',\n",
       " 'all',\n",
       " 'any',\n",
       " 'both',\n",
       " 'each',\n",
       " 'few',\n",
       " 'more',\n",
       " 'most',\n",
       " 'other',\n",
       " 'some',\n",
       " 'such',\n",
       " 'no',\n",
       " 'nor',\n",
       " 'not',\n",
       " 'only',\n",
       " 'own',\n",
       " 'same',\n",
       " 'so',\n",
       " 'than',\n",
       " 'too',\n",
       " 'very',\n",
       " 's',\n",
       " 't',\n",
       " 'can',\n",
       " 'will',\n",
       " 'just',\n",
       " 'don',\n",
       " \"don't\",\n",
       " 'should',\n",
       " \"should've\",\n",
       " 'now',\n",
       " 'd',\n",
       " 'll',\n",
       " 'm',\n",
       " 'o',\n",
       " 're',\n",
       " 've',\n",
       " 'y',\n",
       " 'ain',\n",
       " 'aren',\n",
       " \"aren't\",\n",
       " 'couldn',\n",
       " \"couldn't\",\n",
       " 'didn',\n",
       " \"didn't\",\n",
       " 'doesn',\n",
       " \"doesn't\",\n",
       " 'hadn',\n",
       " \"hadn't\",\n",
       " 'hasn',\n",
       " \"hasn't\",\n",
       " 'haven',\n",
       " \"haven't\",\n",
       " 'isn',\n",
       " \"isn't\",\n",
       " 'ma',\n",
       " 'mightn',\n",
       " \"mightn't\",\n",
       " 'mustn',\n",
       " \"mustn't\",\n",
       " 'needn',\n",
       " \"needn't\",\n",
       " 'shan',\n",
       " \"shan't\",\n",
       " 'shouldn',\n",
       " \"shouldn't\",\n",
       " 'wasn',\n",
       " \"wasn't\",\n",
       " 'weren',\n",
       " \"weren't\",\n",
       " 'won',\n",
       " \"won't\",\n",
       " 'wouldn',\n",
       " \"wouldn't\"]"
      ]
     },
     "execution_count": 23,
     "metadata": {},
     "output_type": "execute_result"
    }
   ],
   "source": [
    "sw"
   ]
  },
  {
   "cell_type": "code",
   "execution_count": 24,
   "id": "884ecc83",
   "metadata": {},
   "outputs": [],
   "source": [
    "df['reviewText'] = df['reviewText'].apply(lambda x : \" \".join(x for x in str(x).split() if x not in sw))\n",
    "\n",
    "\n",
    "# x => index (mesela döngü başlıyor. 1. indexteyiz. index 1 deki bütün cümle str(x).split ile kelime kelime ayrılıyor.\n",
    "# Ardından x indeksindeki kelimelerimiz sw içnde var mı yok mu diye bakıyoruz)\n",
    "\n"
   ]
  },
  {
   "cell_type": "markdown",
   "id": "7fd132ca",
   "metadata": {},
   "source": [
    "`x` burada aslında satırın tamamını, yani `reviewText` sütunundaki her bir metni temsil ediyor. Ancak, `split()` fonksiyonu bu metni kelimelere ayırarak bir listeye dönüştürdüğü için, `x` metni önce bir kelimeler listesine ayrılıyor ve sonrasında bu kelimeler üzerinde işlem yapılıyor.\n",
    "\n",
    "Özetle:\n",
    "\n",
    "- `x`, `reviewText` sütunundaki her bir satırdaki metni (yani tüm cümleyi) temsil eder.\n",
    "- `split()` kullanıldığında, bu metin kelimelere ayrılır ve bu kelimeler liste halinde işlenir. Lambda fonksiyonunun içinde `x` hala bir cümle (satır) olarak başlar, ancak `split()` sonrasında kelimeler listesine dönüşür.\n",
    "  \n",
    "Örneğin:\n",
    "\n",
    "```python\n",
    "x = \"This is a sample sentence\"\n",
    "```\n",
    "\n",
    "- `str(x).split()` bu cümleyi şu listeye çevirir: `['This', 'is', 'a', 'sample', 'sentence']`.\n",
    "- Lambda fonksiyonunda bu liste üzerinde işlem yapılır ve eğer kelime `sw` (stopwords) listesinde yoksa, bu kelime tekrar birleştirilerek yeni bir cümle (satır) oluşturulur."
   ]
  },
  {
   "cell_type": "code",
   "execution_count": 25,
   "id": "b10f056b",
   "metadata": {},
   "outputs": [],
   "source": [
    "# def remove_stopwords(text):\n",
    "#     words = text.split()  # Metni kelimelere ayır\n",
    "#     filtered_words = []  # Filtrelenmiş kelimeleri saklamak için boş bir liste oluştur\n",
    "#     \n",
    "#     for word in words:\n",
    "#         if word not in sw:  # Eğer kelime stopwords listesinde değilse\n",
    "#             filtered_words.append(word)  # Listeye ekle\n",
    "#     \n",
    "#     return \" \".join(filtered_words)  # Kelimeleri tekrar birleştir ve döndür\n",
    "#\n",
    "#\n",
    "# df['reviewText'] = df['reviewText'].apply(remove_stopwords)  # Fonksiyonu her bir satır için uygula"
   ]
  },
  {
   "cell_type": "code",
   "execution_count": 26,
   "id": "bcd2b090",
   "metadata": {},
   "outputs": [
    {
     "data": {
      "text/plain": [
       "0                                                  issues\n",
       "1       purchased device worked advertised never much ...\n",
       "2       works expected sprung higher capacity think ma...\n",
       "3       think worked greathad diff bran gb card went s...\n",
       "4       bought retail packaging arrived legit orange e...\n",
       "                              ...                        \n",
       "4910    bought sandisk gb class use htc inspire months...\n",
       "4911    used extending capabilities samsung galaxy not...\n",
       "4912    great card fast reliable comes optional adapte...\n",
       "4913          good amount space stuff want fits gopro say\n",
       "4914    ive heard bad things gb micro sd card crapping...\n",
       "Name: reviewText, Length: 4915, dtype: object"
      ]
     },
     "execution_count": 26,
     "metadata": {},
     "output_type": "execute_result"
    }
   ],
   "source": [
    "df['reviewText']"
   ]
  },
  {
   "cell_type": "code",
   "execution_count": 27,
   "id": "6c50f2f3",
   "metadata": {},
   "outputs": [],
   "source": [
    "# Rarewords"
   ]
  },
  {
   "cell_type": "code",
   "execution_count": 28,
   "id": "e18959e6",
   "metadata": {},
   "outputs": [],
   "source": [
    "temp_df = pd.Series(' '.join(df['reviewText']).split()).value_counts()\n",
    "\n",
    "drops = temp_df[temp_df <= 1]\n",
    "\n",
    "df['reviewText'] = df['reviewText'].apply(lambda x: \" \".join(x for x in x.split() if x not in drops))"
   ]
  },
  {
   "cell_type": "code",
   "execution_count": 29,
   "id": "5831d7b8",
   "metadata": {},
   "outputs": [
    {
     "data": {
      "text/plain": [
       "card          4603\n",
       "gb            1725\n",
       "phone         1685\n",
       "works         1559\n",
       "great         1445\n",
       "              ... \n",
       "sharper          1\n",
       "cheapos          1\n",
       "gate             1\n",
       "measuring        1\n",
       "stealwould       1\n",
       "Name: count, Length: 9701, dtype: int64"
      ]
     },
     "execution_count": 29,
     "metadata": {},
     "output_type": "execute_result"
    }
   ],
   "source": [
    "temp_df"
   ]
  },
  {
   "cell_type": "code",
   "execution_count": 30,
   "id": "7f4f0fdf",
   "metadata": {},
   "outputs": [
    {
     "data": {
      "text/plain": [
       "conclusionmy       1\n",
       "mbsbuy             1\n",
       "flimsier           1\n",
       "disappointedtry    1\n",
       "priceokay          1\n",
       "                  ..\n",
       "sharper            1\n",
       "cheapos            1\n",
       "gate               1\n",
       "measuring          1\n",
       "stealwould         1\n",
       "Name: count, Length: 5612, dtype: int64"
      ]
     },
     "execution_count": 30,
     "metadata": {},
     "output_type": "execute_result"
    }
   ],
   "source": [
    "drops"
   ]
  },
  {
   "cell_type": "code",
   "execution_count": 31,
   "id": "bb7b17f7",
   "metadata": {},
   "outputs": [
    {
     "data": {
      "text/plain": [
       "0                                                  issues\n",
       "1       purchased device worked advertised never much ...\n",
       "2       works expected higher capacity think made bit ...\n",
       "3       think worked gb card went south one held prett...\n",
       "4       bought retail packaging arrived legit envelope...\n",
       "                              ...                        \n",
       "4910    bought sandisk gb class use htc inspire months...\n",
       "4911    used capabilities samsung galaxy note greatly ...\n",
       "4912    great card fast reliable comes optional adapte...\n",
       "4913          good amount space stuff want fits gopro say\n",
       "4914    ive heard bad things gb micro sd card crapping...\n",
       "Name: reviewText, Length: 4915, dtype: object"
      ]
     },
     "execution_count": 31,
     "metadata": {},
     "output_type": "execute_result"
    }
   ],
   "source": [
    "df['reviewText']"
   ]
  },
  {
   "cell_type": "markdown",
   "id": "09d7fae4",
   "metadata": {},
   "source": [
    "Bu kod satırı, bir DataFrame'deki (özellikle `df['reviewText']` sütunundaki) tüm metinlerdeki kelimelerin frekansını (her bir kelimenin kaç kez geçtiğini) hesaplar ve sonuçları bir Pandas Series olarak saklar. İşte bu kodun adım adım açıklaması:\n",
    "\n",
    "### Kod Satırı:\n",
    "```python\n",
    "temp_df = pd.Series(' '.join(df['reviewText']).split()).value_counts()\n",
    "```\n",
    "\n",
    "### Adım Adım Açıklama:\n",
    "\n",
    "1. **`df['reviewText']`:**\n",
    "   - Bu ifade, `df` adlı DataFrame'deki `reviewText` sütununu alır. Bu sütun, genellikle metin verilerini içerir (örneğin, inceleme yazıları gibi).\n",
    "\n",
    "2. **`' '.join(df['reviewText'])`:**\n",
    "   - Bu kısım, `df['reviewText']` sütunundaki tüm satırlardaki metinleri birleştirir. \n",
    "   - `join()` fonksiyonu, bir iterable (bu durumda `df['reviewText']`'in tüm satırları) içindeki öğeleri birleştirir ve aralarına belirtilen karakteri (bu durumda boşluk `' '`) ekler.\n",
    "   - Sonuç olarak, `df['reviewText']` sütunundaki tüm metinler tek bir büyük string (metin) haline gelir, ve bu metinler arasına birer boşluk eklenir.\n",
    "\n",
    "3. **`.split()`:**\n",
    "   - Bu kısım, yukarıda birleştirilen büyük string'i (tüm metinleri) kelimelere ayırır.\n",
    "   - `split()` fonksiyonu, boşluklardan ayırarak bir string'i bir listeye dönüştürür. \n",
    "   - Örneğin, `\"This is a sample sentence\"` metni `['This', 'is', 'a', 'sample', 'sentence']` listesine dönüşür.\n",
    "   - Sonuç olarak, `split()` fonksiyonu tüm metni kelimelere böler ve bir liste olarak geri döner.\n",
    "\n",
    "4. **`pd.Series(...).value_counts()`:**\n",
    "   - `pd.Series(...)` fonksiyonu, yukarıdaki kelime listesini bir Pandas Series'e dönüştürür.\n",
    "   - `value_counts()` fonksiyonu, Series içindeki her benzersiz öğenin (bu durumda kelimenin) kaç kez tekrarlandığını sayar ve bu frekansları bir Series olarak döndürür.\n",
    "   - Sonuç olarak, her bir kelimenin metinler içinde kaç kez geçtiğini öğreniriz.\n",
    "\n",
    "### Genel İşlev:\n",
    "Bu kod, `df['reviewText']` sütunundaki tüm metinlerdeki kelimeleri sayar ve bu kelimelerin frekanslarını içeren bir Pandas Series oluşturur. Örneğin, `\"the\"` kelimesi metinlerde 1000 kez geçiyorsa, `temp_df` Series'inde `\"the\": 1000` şeklinde bir veri bulunur."
   ]
  },
  {
   "cell_type": "code",
   "execution_count": 32,
   "id": "5ca34c1c",
   "metadata": {},
   "outputs": [],
   "source": [
    "# Tokenization"
   ]
  },
  {
   "cell_type": "code",
   "execution_count": 33,
   "id": "41462527",
   "metadata": {},
   "outputs": [
    {
     "name": "stderr",
     "output_type": "stream",
     "text": [
      "[nltk_data] Downloading package punkt to\n",
      "[nltk_data]     C:\\Users\\ASUS\\AppData\\Roaming\\nltk_data...\n",
      "[nltk_data]   Package punkt is already up-to-date!\n"
     ]
    },
    {
     "data": {
      "text/plain": [
       "True"
      ]
     },
     "execution_count": 33,
     "metadata": {},
     "output_type": "execute_result"
    }
   ],
   "source": [
    "nltk.download(\"punkt\")"
   ]
  },
  {
   "cell_type": "code",
   "execution_count": 34,
   "id": "c68ee64c",
   "metadata": {},
   "outputs": [
    {
     "data": {
      "text/plain": [
       "0                                             [issues]\n",
       "1    [purchased, device, worked, advertised, never,...\n",
       "2    [works, expected, higher, capacity, think, mad...\n",
       "3    [think, worked, gb, card, went, south, one, he...\n",
       "4    [bought, retail, packaging, arrived, legit, en...\n",
       "Name: reviewText, dtype: object"
      ]
     },
     "execution_count": 34,
     "metadata": {},
     "output_type": "execute_result"
    }
   ],
   "source": [
    "df[\"reviewText\"].apply(lambda x: TextBlob(x).words).head()"
   ]
  },
  {
   "cell_type": "code",
   "execution_count": 35,
   "id": "eb582ef4",
   "metadata": {},
   "outputs": [],
   "source": [
    "# Lemmatization"
   ]
  },
  {
   "cell_type": "code",
   "execution_count": 36,
   "id": "c3fa5cb5",
   "metadata": {},
   "outputs": [
    {
     "name": "stderr",
     "output_type": "stream",
     "text": [
      "[nltk_data] Downloading package wordnet to\n",
      "[nltk_data]     C:\\Users\\ASUS\\AppData\\Roaming\\nltk_data...\n",
      "[nltk_data]   Package wordnet is already up-to-date!\n"
     ]
    },
    {
     "data": {
      "text/plain": [
       "True"
      ]
     },
     "execution_count": 36,
     "metadata": {},
     "output_type": "execute_result"
    }
   ],
   "source": [
    "nltk.download('wordnet')"
   ]
  },
  {
   "cell_type": "code",
   "execution_count": 37,
   "id": "d8b456c3",
   "metadata": {},
   "outputs": [],
   "source": [
    "df['reviewText'] = df['reviewText'].apply(lambda x: \" \".join([Word(word).lemmatize() for word in x.split()]))"
   ]
  },
  {
   "cell_type": "code",
   "execution_count": 38,
   "id": "b1647e28",
   "metadata": {},
   "outputs": [
    {
     "data": {
      "text/plain": [
       "0                                                   issue\n",
       "1       purchased device worked advertised never much ...\n",
       "2       work expected higher capacity think made bit e...\n",
       "3       think worked gb card went south one held prett...\n",
       "4       bought retail packaging arrived legit envelope...\n",
       "                              ...                        \n",
       "4910    bought sandisk gb class use htc inspire month ...\n",
       "4911    used capability samsung galaxy note greatly ex...\n",
       "4912    great card fast reliable come optional adapter...\n",
       "4913           good amount space stuff want fit gopro say\n",
       "4914    ive heard bad thing gb micro sd card crapping ...\n",
       "Name: reviewText, Length: 4915, dtype: object"
      ]
     },
     "execution_count": 38,
     "metadata": {},
     "output_type": "execute_result"
    }
   ],
   "source": [
    "df['reviewText']"
   ]
  },
  {
   "cell_type": "code",
   "execution_count": 39,
   "id": "9efb964d",
   "metadata": {},
   "outputs": [],
   "source": [
    "# 2. Text Visualization"
   ]
  },
  {
   "cell_type": "code",
   "execution_count": 40,
   "id": "e1046961",
   "metadata": {},
   "outputs": [],
   "source": [
    "# Terim Frekanslarının Hesaplanması\n",
    "\n",
    "tf = df[\"reviewText\"].apply(lambda x: pd.value_counts(x.split(\" \"))).sum(axis=0).reset_index()"
   ]
  },
  {
   "cell_type": "code",
   "execution_count": 41,
   "id": "62b608c6",
   "metadata": {},
   "outputs": [],
   "source": [
    "tf.columns = [\"words\", \"tf\"]"
   ]
  },
  {
   "cell_type": "code",
   "execution_count": 42,
   "id": "2a58f4f8",
   "metadata": {},
   "outputs": [
    {
     "data": {
      "text/html": [
       "<div>\n",
       "<style scoped>\n",
       "    .dataframe tbody tr th:only-of-type {\n",
       "        vertical-align: middle;\n",
       "    }\n",
       "\n",
       "    .dataframe tbody tr th {\n",
       "        vertical-align: top;\n",
       "    }\n",
       "\n",
       "    .dataframe thead th {\n",
       "        text-align: right;\n",
       "    }\n",
       "</style>\n",
       "<table border=\"1\" class=\"dataframe\">\n",
       "  <thead>\n",
       "    <tr style=\"text-align: right;\">\n",
       "      <th></th>\n",
       "      <th>words</th>\n",
       "      <th>tf</th>\n",
       "    </tr>\n",
       "  </thead>\n",
       "  <tbody>\n",
       "    <tr>\n",
       "      <th>27</th>\n",
       "      <td>card</td>\n",
       "      <td>5537.00</td>\n",
       "    </tr>\n",
       "    <tr>\n",
       "      <th>14</th>\n",
       "      <td>work</td>\n",
       "      <td>2044.00</td>\n",
       "    </tr>\n",
       "    <tr>\n",
       "      <th>7</th>\n",
       "      <td>phone</td>\n",
       "      <td>1909.00</td>\n",
       "    </tr>\n",
       "    <tr>\n",
       "      <th>39</th>\n",
       "      <td>gb</td>\n",
       "      <td>1756.00</td>\n",
       "    </tr>\n",
       "    <tr>\n",
       "      <th>98</th>\n",
       "      <td>great</td>\n",
       "      <td>1445.00</td>\n",
       "    </tr>\n",
       "    <tr>\n",
       "      <th>...</th>\n",
       "      <td>...</td>\n",
       "      <td>...</td>\n",
       "    </tr>\n",
       "    <tr>\n",
       "      <th>2721</th>\n",
       "      <td>sizethe</td>\n",
       "      <td>2.00</td>\n",
       "    </tr>\n",
       "    <tr>\n",
       "      <th>2719</th>\n",
       "      <td>everybody</td>\n",
       "      <td>2.00</td>\n",
       "    </tr>\n",
       "    <tr>\n",
       "      <th>2717</th>\n",
       "      <td>lived</td>\n",
       "      <td>2.00</td>\n",
       "    </tr>\n",
       "    <tr>\n",
       "      <th>3687</th>\n",
       "      <td>chkdsk</td>\n",
       "      <td>2.00</td>\n",
       "    </tr>\n",
       "    <tr>\n",
       "      <th>1098</th>\n",
       "      <td></td>\n",
       "      <td>1.00</td>\n",
       "    </tr>\n",
       "  </tbody>\n",
       "</table>\n",
       "<p>3688 rows × 2 columns</p>\n",
       "</div>"
      ],
      "text/plain": [
       "          words      tf\n",
       "27         card 5537.00\n",
       "14         work 2044.00\n",
       "7         phone 1909.00\n",
       "39           gb 1756.00\n",
       "98        great 1445.00\n",
       "...         ...     ...\n",
       "2721    sizethe    2.00\n",
       "2719  everybody    2.00\n",
       "2717      lived    2.00\n",
       "3687     chkdsk    2.00\n",
       "1098               1.00\n",
       "\n",
       "[3688 rows x 2 columns]"
      ]
     },
     "execution_count": 42,
     "metadata": {},
     "output_type": "execute_result"
    }
   ],
   "source": [
    "tf.sort_values(\"tf\", ascending=False)"
   ]
  },
  {
   "cell_type": "code",
   "execution_count": 43,
   "id": "aedf52ea",
   "metadata": {},
   "outputs": [],
   "source": [
    "# Barplot"
   ]
  },
  {
   "cell_type": "code",
   "execution_count": 44,
   "id": "c60a7f4d",
   "metadata": {},
   "outputs": [
    {
     "data": {
      "image/png": "[encoded data removed]",
      "text/plain": [
       "<Figure size 640x480 with 1 Axes>"
      ]
     },
     "metadata": {},
     "output_type": "display_data"
    }
   ],
   "source": [
    "tf[tf[\"tf\"] > 500].plot.bar(x=\"words\", y=\"tf\")\n",
    "plt.show()"
   ]
  },
  {
   "cell_type": "code",
   "execution_count": 45,
   "id": "0583c3f7",
   "metadata": {},
   "outputs": [],
   "source": [
    "# Wordcloud"
   ]
  },
  {
   "cell_type": "code",
   "execution_count": 46,
   "id": "26dfec43",
   "metadata": {},
   "outputs": [],
   "source": [
    "text = \" \".join(i for i in df.reviewText)\n"
   ]
  },
  {
   "cell_type": "code",
   "execution_count": 47,
   "id": "642f01c8",
   "metadata": {},
   "outputs": [
    {
     "data": {
      "image/png": "[encoded data removed]",
      "text/plain": [
       "<Figure size 640x480 with 1 Axes>"
      ]
     },
     "metadata": {},
     "output_type": "display_data"
    }
   ],
   "source": [
    "wordcloud = WordCloud().generate(text)\n",
    "plt.imshow(wordcloud, interpolation=\"bilinear\")\n",
    "plt.axis(\"off\")\n",
    "plt.show()"
   ]
  },
  {
   "cell_type": "code",
   "execution_count": 48,
   "id": "b17212de",
   "metadata": {},
   "outputs": [],
   "source": [
    "wordcloud = WordCloud(max_font_size=50,\n",
    "                      max_words=100,\n",
    "                      background_color=\"white\").generate(text)"
   ]
  },
  {
   "cell_type": "code",
   "execution_count": 49,
   "id": "304d5a30",
   "metadata": {},
   "outputs": [
    {
     "data": {
      "image/png": "[encoded data removed]",
      "text/plain": [
       "<Figure size 640x480 with 1 Axes>"
      ]
     },
     "metadata": {},
     "output_type": "display_data"
    }
   ],
   "source": [
    "plt.figure()\n",
    "plt.imshow(wordcloud, interpolation=\"bilinear\")\n",
    "plt.axis(\"off\")\n",
    "plt.show()"
   ]
  },
  {
   "cell_type": "code",
   "execution_count": 50,
   "id": "c43a0198",
   "metadata": {},
   "outputs": [
    {
     "data": {
      "text/plain": [
       "<wordcloud.wordcloud.WordCloud at 0x1f290e75f10>"
      ]
     },
     "execution_count": 50,
     "metadata": {},
     "output_type": "execute_result"
    }
   ],
   "source": [
    "wordcloud.to_file(\"wordcloud.png\")"
   ]
  },
  {
   "cell_type": "code",
   "execution_count": 51,
   "id": "551b8044",
   "metadata": {},
   "outputs": [],
   "source": [
    "# Şablonlara Göre Wordcloud"
   ]
  },
  {
   "cell_type": "code",
   "execution_count": 52,
   "id": "84821e52",
   "metadata": {},
   "outputs": [],
   "source": [
    "tr_mask = np.array(Image.open(\"C:/Users/ASUS/Desktop/YAZ KAMPI/10 - Doğal Dil İşleme ( NLP )/tr.png\"))"
   ]
  },
  {
   "cell_type": "code",
   "execution_count": 53,
   "id": "ceb6c15b",
   "metadata": {
    "scrolled": true
   },
   "outputs": [
    {
     "ename": "ValueError",
     "evalue": "Couldn't find space to draw. Either the Canvas size is too small or too much of the image is masked out.",
     "output_type": "error",
     "traceback": [
      "\u001b[1;31m---------------------------------------------------------------------------\u001b[0m",
      "\u001b[1;31mIndexError\u001b[0m                                Traceback (most recent call last)",
      "File \u001b[1;32m~\\anaconda3\\Lib\\site-packages\\wordcloud\\wordcloud.py:458\u001b[0m, in \u001b[0;36mWordCloud.generate_from_frequencies\u001b[1;34m(self, frequencies, max_font_size)\u001b[0m\n\u001b[0;32m    457\u001b[0m \u001b[38;5;28;01mtry\u001b[39;00m:\n\u001b[1;32m--> 458\u001b[0m     font_size \u001b[38;5;241m=\u001b[39m \u001b[38;5;28mint\u001b[39m(\u001b[38;5;241m2\u001b[39m \u001b[38;5;241m*\u001b[39m sizes[\u001b[38;5;241m0\u001b[39m] \u001b[38;5;241m*\u001b[39m sizes[\u001b[38;5;241m1\u001b[39m]\n\u001b[0;32m    459\u001b[0m                     \u001b[38;5;241m/\u001b[39m (sizes[\u001b[38;5;241m0\u001b[39m] \u001b[38;5;241m+\u001b[39m sizes[\u001b[38;5;241m1\u001b[39m]))\n\u001b[0;32m    460\u001b[0m \u001b[38;5;66;03m# quick fix for if self.layout_ contains less than 2 values\u001b[39;00m\n\u001b[0;32m    461\u001b[0m \u001b[38;5;66;03m# on very small images it can be empty\u001b[39;00m\n",
      "\u001b[1;31mIndexError\u001b[0m: list index out of range",
      "\nDuring handling of the above exception, another exception occurred:\n",
      "\u001b[1;31mIndexError\u001b[0m                                Traceback (most recent call last)",
      "File \u001b[1;32m~\\anaconda3\\Lib\\site-packages\\wordcloud\\wordcloud.py:464\u001b[0m, in \u001b[0;36mWordCloud.generate_from_frequencies\u001b[1;34m(self, frequencies, max_font_size)\u001b[0m\n\u001b[0;32m    463\u001b[0m \u001b[38;5;28;01mtry\u001b[39;00m:\n\u001b[1;32m--> 464\u001b[0m     font_size \u001b[38;5;241m=\u001b[39m sizes[\u001b[38;5;241m0\u001b[39m]\n\u001b[0;32m    465\u001b[0m \u001b[38;5;28;01mexcept\u001b[39;00m \u001b[38;5;167;01mIndexError\u001b[39;00m:\n",
      "\u001b[1;31mIndexError\u001b[0m: list index out of range",
      "\nDuring handling of the above exception, another exception occurred:\n",
      "\u001b[1;31mValueError\u001b[0m                                Traceback (most recent call last)",
      "Cell \u001b[1;32mIn[53], line 8\u001b[0m\n\u001b[0;32m      1\u001b[0m wc \u001b[38;5;241m=\u001b[39m WordCloud(background_color\u001b[38;5;241m=\u001b[39m\u001b[38;5;124m\"\u001b[39m\u001b[38;5;124mwhite\u001b[39m\u001b[38;5;124m\"\u001b[39m,\n\u001b[0;32m      2\u001b[0m                max_words\u001b[38;5;241m=\u001b[39m\u001b[38;5;241m10000\u001b[39m,  \u001b[38;5;66;03m# Maksimum kelime sayısını azaltın\u001b[39;00m\n\u001b[0;32m      3\u001b[0m                mask\u001b[38;5;241m=\u001b[39mtr_mask,\n\u001b[0;32m      4\u001b[0m                contour_width\u001b[38;5;241m=\u001b[39m\u001b[38;5;241m3\u001b[39m,\n\u001b[0;32m      5\u001b[0m                contour_color\u001b[38;5;241m=\u001b[39m\u001b[38;5;124m\"\u001b[39m\u001b[38;5;124mfirebrick\u001b[39m\u001b[38;5;124m\"\u001b[39m,)\n\u001b[1;32m----> 8\u001b[0m wc\u001b[38;5;241m.\u001b[39mgenerate(text)\n\u001b[0;32m      9\u001b[0m plt\u001b[38;5;241m.\u001b[39mfigure(figsize\u001b[38;5;241m=\u001b[39m[\u001b[38;5;241m10\u001b[39m, \u001b[38;5;241m10\u001b[39m])\n\u001b[0;32m     10\u001b[0m plt\u001b[38;5;241m.\u001b[39mimshow(wc, interpolation\u001b[38;5;241m=\u001b[39m\u001b[38;5;124m\"\u001b[39m\u001b[38;5;124mbilinear\u001b[39m\u001b[38;5;124m\"\u001b[39m)\n",
      "File \u001b[1;32m~\\anaconda3\\Lib\\site-packages\\wordcloud\\wordcloud.py:642\u001b[0m, in \u001b[0;36mWordCloud.generate\u001b[1;34m(self, text)\u001b[0m\n\u001b[0;32m    627\u001b[0m \u001b[38;5;28;01mdef\u001b[39;00m \u001b[38;5;21mgenerate\u001b[39m(\u001b[38;5;28mself\u001b[39m, text):\n\u001b[0;32m    628\u001b[0m \u001b[38;5;250m    \u001b[39m\u001b[38;5;124;03m\"\"\"Generate wordcloud from text.\u001b[39;00m\n\u001b[0;32m    629\u001b[0m \n\u001b[0;32m    630\u001b[0m \u001b[38;5;124;03m    The input \"text\" is expected to be a natural text. If you pass a sorted\u001b[39;00m\n\u001b[1;32m   (...)\u001b[0m\n\u001b[0;32m    640\u001b[0m \u001b[38;5;124;03m    self\u001b[39;00m\n\u001b[0;32m    641\u001b[0m \u001b[38;5;124;03m    \"\"\"\u001b[39;00m\n\u001b[1;32m--> 642\u001b[0m     \u001b[38;5;28;01mreturn\u001b[39;00m \u001b[38;5;28mself\u001b[39m\u001b[38;5;241m.\u001b[39mgenerate_from_text(text)\n",
      "File \u001b[1;32m~\\anaconda3\\Lib\\site-packages\\wordcloud\\wordcloud.py:624\u001b[0m, in \u001b[0;36mWordCloud.generate_from_text\u001b[1;34m(self, text)\u001b[0m\n\u001b[0;32m    607\u001b[0m \u001b[38;5;250m\u001b[39m\u001b[38;5;124;03m\"\"\"Generate wordcloud from text.\u001b[39;00m\n\u001b[0;32m    608\u001b[0m \n\u001b[0;32m    609\u001b[0m \u001b[38;5;124;03mThe input \"text\" is expected to be a natural text. If you pass a sorted\u001b[39;00m\n\u001b[1;32m   (...)\u001b[0m\n\u001b[0;32m    621\u001b[0m \u001b[38;5;124;03mself\u001b[39;00m\n\u001b[0;32m    622\u001b[0m \u001b[38;5;124;03m\"\"\"\u001b[39;00m\n\u001b[0;32m    623\u001b[0m words \u001b[38;5;241m=\u001b[39m \u001b[38;5;28mself\u001b[39m\u001b[38;5;241m.\u001b[39mprocess_text(text)\n\u001b[1;32m--> 624\u001b[0m \u001b[38;5;28mself\u001b[39m\u001b[38;5;241m.\u001b[39mgenerate_from_frequencies(words)\n\u001b[0;32m    625\u001b[0m \u001b[38;5;28;01mreturn\u001b[39;00m \u001b[38;5;28mself\u001b[39m\n",
      "File \u001b[1;32m~\\anaconda3\\Lib\\site-packages\\wordcloud\\wordcloud.py:466\u001b[0m, in \u001b[0;36mWordCloud.generate_from_frequencies\u001b[1;34m(self, frequencies, max_font_size)\u001b[0m\n\u001b[0;32m    464\u001b[0m                 font_size \u001b[38;5;241m=\u001b[39m sizes[\u001b[38;5;241m0\u001b[39m]\n\u001b[0;32m    465\u001b[0m             \u001b[38;5;28;01mexcept\u001b[39;00m \u001b[38;5;167;01mIndexError\u001b[39;00m:\n\u001b[1;32m--> 466\u001b[0m                 \u001b[38;5;28;01mraise\u001b[39;00m \u001b[38;5;167;01mValueError\u001b[39;00m(\n\u001b[0;32m    467\u001b[0m                     \u001b[38;5;124m\"\u001b[39m\u001b[38;5;124mCouldn\u001b[39m\u001b[38;5;124m'\u001b[39m\u001b[38;5;124mt find space to draw. Either the Canvas size\u001b[39m\u001b[38;5;124m\"\u001b[39m\n\u001b[0;32m    468\u001b[0m                     \u001b[38;5;124m\"\u001b[39m\u001b[38;5;124m is too small or too much of the image is masked \u001b[39m\u001b[38;5;124m\"\u001b[39m\n\u001b[0;32m    469\u001b[0m                     \u001b[38;5;124m\"\u001b[39m\u001b[38;5;124mout.\u001b[39m\u001b[38;5;124m\"\u001b[39m)\n\u001b[0;32m    470\u001b[0m \u001b[38;5;28;01melse\u001b[39;00m:\n\u001b[0;32m    471\u001b[0m     font_size \u001b[38;5;241m=\u001b[39m max_font_size\n",
      "\u001b[1;31mValueError\u001b[0m: Couldn't find space to draw. Either the Canvas size is too small or too much of the image is masked out."
     ]
    }
   ],
   "source": [
    "wc = WordCloud(background_color=\"white\",\n",
    "               max_words=10000,  # Maksimum kelime sayısını azaltın\n",
    "               mask=tr_mask,\n",
    "               contour_width=3,\n",
    "               contour_color=\"firebrick\",)\n",
    "\n",
    "\n",
    "wc.generate(text)\n",
    "plt.figure(figsize=[10, 10])\n",
    "plt.imshow(wc, interpolation=\"bilinear\")\n",
    "plt.axis(\"off\")\n",
    "plt.show()"
   ]
  },
  {
   "cell_type": "code",
   "execution_count": 54,
   "id": "f0b6eac9",
   "metadata": {},
   "outputs": [],
   "source": [
    "# 3. Sentiment Analysis"
   ]
  },
  {
   "cell_type": "code",
   "execution_count": 55,
   "id": "b8fac462",
   "metadata": {},
   "outputs": [
    {
     "data": {
      "text/plain": [
       "0                                                issue\n",
       "1    purchased device worked advertised never much ...\n",
       "2    work expected higher capacity think made bit e...\n",
       "3    think worked gb card went south one held prett...\n",
       "4    bought retail packaging arrived legit envelope...\n",
       "Name: reviewText, dtype: object"
      ]
     },
     "execution_count": 55,
     "metadata": {},
     "output_type": "execute_result"
    }
   ],
   "source": [
    "df[\"reviewText\"].head()"
   ]
  },
  {
   "cell_type": "code",
   "execution_count": 56,
   "id": "76971968",
   "metadata": {},
   "outputs": [
    {
     "name": "stderr",
     "output_type": "stream",
     "text": [
      "[nltk_data] Downloading package vader_lexicon to\n",
      "[nltk_data]     C:\\Users\\ASUS\\AppData\\Roaming\\nltk_data...\n",
      "[nltk_data]   Package vader_lexicon is already up-to-date!\n"
     ]
    },
    {
     "data": {
      "text/plain": [
       "True"
      ]
     },
     "execution_count": 56,
     "metadata": {},
     "output_type": "execute_result"
    }
   ],
   "source": [
    "nltk.download('vader_lexicon')"
   ]
  },
  {
   "cell_type": "code",
   "execution_count": 57,
   "id": "57227d92",
   "metadata": {},
   "outputs": [
    {
     "data": {
      "text/plain": [
       "{'neg': 0.0, 'neu': 0.423, 'pos': 0.577, 'compound': 0.6249}"
      ]
     },
     "execution_count": 57,
     "metadata": {},
     "output_type": "execute_result"
    }
   ],
   "source": [
    "sia = SentimentIntensityAnalyzer()\n",
    "sia.polarity_scores(\"The film was awesome\")"
   ]
  },
  {
   "cell_type": "code",
   "execution_count": 58,
   "id": "32c73598",
   "metadata": {},
   "outputs": [
    {
     "data": {
      "text/plain": [
       "{'neg': 0.207, 'neu': 0.666, 'pos': 0.127, 'compound': -0.298}"
      ]
     },
     "execution_count": 58,
     "metadata": {},
     "output_type": "execute_result"
    }
   ],
   "source": [
    "sia.polarity_scores(\"I liked this music but it is not good as the other one\")"
   ]
  },
  {
   "cell_type": "code",
   "execution_count": 59,
   "id": "c2cd4a87",
   "metadata": {},
   "outputs": [
    {
     "data": {
      "text/plain": [
       "0    {'neg': 0.0, 'neu': 1.0, 'pos': 0.0, 'compound...\n",
       "1    {'neg': 0.0, 'neu': 1.0, 'pos': 0.0, 'compound...\n",
       "2    {'neg': 0.0, 'neu': 0.803, 'pos': 0.197, 'comp...\n",
       "3    {'neg': 0.0, 'neu': 0.798, 'pos': 0.202, 'comp...\n",
       "4    {'neg': 0.0, 'neu': 0.747, 'pos': 0.253, 'comp...\n",
       "5    {'neg': 0.0, 'neu': 1.0, 'pos': 0.0, 'compound...\n",
       "6    {'neg': 0.108, 'neu': 0.598, 'pos': 0.295, 'co...\n",
       "7    {'neg': 0.077, 'neu': 0.65, 'pos': 0.272, 'com...\n",
       "8    {'neg': 0.0, 'neu': 1.0, 'pos': 0.0, 'compound...\n",
       "9    {'neg': 0.0, 'neu': 0.457, 'pos': 0.543, 'comp...\n",
       "Name: reviewText, dtype: object"
      ]
     },
     "execution_count": 59,
     "metadata": {},
     "output_type": "execute_result"
    }
   ],
   "source": [
    "df[\"reviewText\"][0:10].apply(lambda x: sia.polarity_scores(x))"
   ]
  },
  {
   "cell_type": "code",
   "execution_count": 60,
   "id": "590f0b2b",
   "metadata": {},
   "outputs": [
    {
     "data": {
      "text/plain": [
       "0   0.00\n",
       "1   0.00\n",
       "2   0.40\n",
       "3   0.65\n",
       "4   0.86\n",
       "5   0.00\n",
       "6   0.87\n",
       "7   0.82\n",
       "8   0.00\n",
       "9   0.92\n",
       "Name: reviewText, dtype: float64"
      ]
     },
     "execution_count": 60,
     "metadata": {},
     "output_type": "execute_result"
    }
   ],
   "source": [
    "df[\"reviewText\"][0:10].apply(lambda x: sia.polarity_scores(x)[\"compound\"])"
   ]
  },
  {
   "cell_type": "code",
   "execution_count": 61,
   "id": "d339d03a",
   "metadata": {},
   "outputs": [],
   "source": [
    "df[\"polarity_score\"] = df[\"reviewText\"].apply(lambda x: sia.polarity_scores(x)[\"compound\"])"
   ]
  },
  {
   "cell_type": "code",
   "execution_count": 62,
   "id": "a057520d",
   "metadata": {},
   "outputs": [
    {
     "data": {
      "text/html": [
       "<div>\n",
       "<style scoped>\n",
       "    .dataframe tbody tr th:only-of-type {\n",
       "        vertical-align: middle;\n",
       "    }\n",
       "\n",
       "    .dataframe tbody tr th {\n",
       "        vertical-align: top;\n",
       "    }\n",
       "\n",
       "    .dataframe thead th {\n",
       "        text-align: right;\n",
       "    }\n",
       "</style>\n",
       "<table border=\"1\" class=\"dataframe\">\n",
       "  <thead>\n",
       "    <tr style=\"text-align: right;\">\n",
       "      <th></th>\n",
       "      <th>reviewerID</th>\n",
       "      <th>asin</th>\n",
       "      <th>reviewerName</th>\n",
       "      <th>helpful</th>\n",
       "      <th>reviewText</th>\n",
       "      <th>overall</th>\n",
       "      <th>summary</th>\n",
       "      <th>unixReviewTime</th>\n",
       "      <th>reviewTime</th>\n",
       "      <th>day_diff</th>\n",
       "      <th>helpful_yes</th>\n",
       "      <th>total_vote</th>\n",
       "      <th>polarity_score</th>\n",
       "    </tr>\n",
       "  </thead>\n",
       "  <tbody>\n",
       "    <tr>\n",
       "      <th>0</th>\n",
       "      <td>A3SBTW3WS4IQSN</td>\n",
       "      <td>B007WTAJTO</td>\n",
       "      <td>NaN</td>\n",
       "      <td>[0, 0]</td>\n",
       "      <td>issue</td>\n",
       "      <td>4.00</td>\n",
       "      <td>Four Stars</td>\n",
       "      <td>1406073600</td>\n",
       "      <td>2014-07-23</td>\n",
       "      <td>138</td>\n",
       "      <td>0</td>\n",
       "      <td>0</td>\n",
       "      <td>0.00</td>\n",
       "    </tr>\n",
       "    <tr>\n",
       "      <th>1</th>\n",
       "      <td>A18K1ODH1I2MVB</td>\n",
       "      <td>B007WTAJTO</td>\n",
       "      <td>0mie</td>\n",
       "      <td>[0, 0]</td>\n",
       "      <td>purchased device worked advertised never much ...</td>\n",
       "      <td>5.00</td>\n",
       "      <td>MOAR SPACE!!!</td>\n",
       "      <td>1382659200</td>\n",
       "      <td>2013-10-25</td>\n",
       "      <td>409</td>\n",
       "      <td>0</td>\n",
       "      <td>0</td>\n",
       "      <td>0.00</td>\n",
       "    </tr>\n",
       "    <tr>\n",
       "      <th>2</th>\n",
       "      <td>A2FII3I2MBMUIA</td>\n",
       "      <td>B007WTAJTO</td>\n",
       "      <td>1K3</td>\n",
       "      <td>[0, 0]</td>\n",
       "      <td>work expected higher capacity think made bit e...</td>\n",
       "      <td>4.00</td>\n",
       "      <td>nothing to really say....</td>\n",
       "      <td>1356220800</td>\n",
       "      <td>2012-12-23</td>\n",
       "      <td>715</td>\n",
       "      <td>0</td>\n",
       "      <td>0</td>\n",
       "      <td>0.40</td>\n",
       "    </tr>\n",
       "    <tr>\n",
       "      <th>3</th>\n",
       "      <td>A3H99DFEG68SR</td>\n",
       "      <td>B007WTAJTO</td>\n",
       "      <td>1m2</td>\n",
       "      <td>[0, 0]</td>\n",
       "      <td>think worked gb card went south one held prett...</td>\n",
       "      <td>5.00</td>\n",
       "      <td>Great buy at this price!!!  *** UPDATE</td>\n",
       "      <td>1384992000</td>\n",
       "      <td>2013-11-21</td>\n",
       "      <td>382</td>\n",
       "      <td>0</td>\n",
       "      <td>0</td>\n",
       "      <td>0.65</td>\n",
       "    </tr>\n",
       "    <tr>\n",
       "      <th>4</th>\n",
       "      <td>A375ZM4U047O79</td>\n",
       "      <td>B007WTAJTO</td>\n",
       "      <td>2&amp;amp;1/2Men</td>\n",
       "      <td>[0, 0]</td>\n",
       "      <td>bought retail packaging arrived legit envelope...</td>\n",
       "      <td>5.00</td>\n",
       "      <td>best deal around</td>\n",
       "      <td>1373673600</td>\n",
       "      <td>2013-07-13</td>\n",
       "      <td>513</td>\n",
       "      <td>0</td>\n",
       "      <td>0</td>\n",
       "      <td>0.86</td>\n",
       "    </tr>\n",
       "    <tr>\n",
       "      <th>...</th>\n",
       "      <td>...</td>\n",
       "      <td>...</td>\n",
       "      <td>...</td>\n",
       "      <td>...</td>\n",
       "      <td>...</td>\n",
       "      <td>...</td>\n",
       "      <td>...</td>\n",
       "      <td>...</td>\n",
       "      <td>...</td>\n",
       "      <td>...</td>\n",
       "      <td>...</td>\n",
       "      <td>...</td>\n",
       "      <td>...</td>\n",
       "    </tr>\n",
       "    <tr>\n",
       "      <th>4910</th>\n",
       "      <td>A2LBMKXRM5H2W9</td>\n",
       "      <td>B007WTAJTO</td>\n",
       "      <td>ZM \"J\"</td>\n",
       "      <td>[0, 0]</td>\n",
       "      <td>bought sandisk gb class use htc inspire month ...</td>\n",
       "      <td>1.00</td>\n",
       "      <td>Do not waste your money.</td>\n",
       "      <td>1374537600</td>\n",
       "      <td>2013-07-23</td>\n",
       "      <td>503</td>\n",
       "      <td>0</td>\n",
       "      <td>0</td>\n",
       "      <td>0.08</td>\n",
       "    </tr>\n",
       "    <tr>\n",
       "      <th>4911</th>\n",
       "      <td>ALGDLRUI1ZPCS</td>\n",
       "      <td>B007WTAJTO</td>\n",
       "      <td>Zo</td>\n",
       "      <td>[0, 0]</td>\n",
       "      <td>used capability samsung galaxy note greatly ex...</td>\n",
       "      <td>5.00</td>\n",
       "      <td>Great item!</td>\n",
       "      <td>1377129600</td>\n",
       "      <td>2013-08-22</td>\n",
       "      <td>473</td>\n",
       "      <td>0</td>\n",
       "      <td>0</td>\n",
       "      <td>0.18</td>\n",
       "    </tr>\n",
       "    <tr>\n",
       "      <th>4912</th>\n",
       "      <td>A2MR1NI0ENW2AD</td>\n",
       "      <td>B007WTAJTO</td>\n",
       "      <td>Z S Liske</td>\n",
       "      <td>[0, 0]</td>\n",
       "      <td>great card fast reliable come optional adapter...</td>\n",
       "      <td>5.00</td>\n",
       "      <td>Fast and reliable memory card</td>\n",
       "      <td>1396224000</td>\n",
       "      <td>2014-03-31</td>\n",
       "      <td>252</td>\n",
       "      <td>0</td>\n",
       "      <td>0</td>\n",
       "      <td>0.85</td>\n",
       "    </tr>\n",
       "    <tr>\n",
       "      <th>4913</th>\n",
       "      <td>A37E6P3DSO9QJD</td>\n",
       "      <td>B007WTAJTO</td>\n",
       "      <td>Z Taylor</td>\n",
       "      <td>[0, 0]</td>\n",
       "      <td>good amount space stuff want fit gopro say</td>\n",
       "      <td>5.00</td>\n",
       "      <td>Great little card</td>\n",
       "      <td>1379289600</td>\n",
       "      <td>2013-09-16</td>\n",
       "      <td>448</td>\n",
       "      <td>0</td>\n",
       "      <td>0</td>\n",
       "      <td>0.69</td>\n",
       "    </tr>\n",
       "    <tr>\n",
       "      <th>4914</th>\n",
       "      <td>A8KGFTFQ86IBR</td>\n",
       "      <td>B007WTAJTO</td>\n",
       "      <td>Zza</td>\n",
       "      <td>[0, 0]</td>\n",
       "      <td>ive heard bad thing gb micro sd card crapping ...</td>\n",
       "      <td>5.00</td>\n",
       "      <td>So far so good.</td>\n",
       "      <td>1388620800</td>\n",
       "      <td>2014-02-01</td>\n",
       "      <td>310</td>\n",
       "      <td>0</td>\n",
       "      <td>0</td>\n",
       "      <td>0.53</td>\n",
       "    </tr>\n",
       "  </tbody>\n",
       "</table>\n",
       "<p>4915 rows × 13 columns</p>\n",
       "</div>"
      ],
      "text/plain": [
       "          reviewerID        asin  reviewerName helpful                                         reviewText  overall                                 summary  unixReviewTime  reviewTime  day_diff  \\\n",
       "0     A3SBTW3WS4IQSN  B007WTAJTO           NaN  [0, 0]                                              issue     4.00                              Four Stars      1406073600  2014-07-23       138   \n",
       "1     A18K1ODH1I2MVB  B007WTAJTO          0mie  [0, 0]  purchased device worked advertised never much ...     5.00                           MOAR SPACE!!!      1382659200  2013-10-25       409   \n",
       "2     A2FII3I2MBMUIA  B007WTAJTO           1K3  [0, 0]  work expected higher capacity think made bit e...     4.00               nothing to really say....      1356220800  2012-12-23       715   \n",
       "3      A3H99DFEG68SR  B007WTAJTO           1m2  [0, 0]  think worked gb card went south one held prett...     5.00  Great buy at this price!!!  *** UPDATE      1384992000  2013-11-21       382   \n",
       "4     A375ZM4U047O79  B007WTAJTO  2&amp;1/2Men  [0, 0]  bought retail packaging arrived legit envelope...     5.00                        best deal around      1373673600  2013-07-13       513   \n",
       "...              ...         ...           ...     ...                                                ...      ...                                     ...             ...         ...       ...   \n",
       "4910  A2LBMKXRM5H2W9  B007WTAJTO        ZM \"J\"  [0, 0]  bought sandisk gb class use htc inspire month ...     1.00                Do not waste your money.      1374537600  2013-07-23       503   \n",
       "4911   ALGDLRUI1ZPCS  B007WTAJTO            Zo  [0, 0]  used capability samsung galaxy note greatly ex...     5.00                             Great item!      1377129600  2013-08-22       473   \n",
       "4912  A2MR1NI0ENW2AD  B007WTAJTO     Z S Liske  [0, 0]  great card fast reliable come optional adapter...     5.00           Fast and reliable memory card      1396224000  2014-03-31       252   \n",
       "4913  A37E6P3DSO9QJD  B007WTAJTO      Z Taylor  [0, 0]         good amount space stuff want fit gopro say     5.00                       Great little card      1379289600  2013-09-16       448   \n",
       "4914   A8KGFTFQ86IBR  B007WTAJTO           Zza  [0, 0]  ive heard bad thing gb micro sd card crapping ...     5.00                         So far so good.      1388620800  2014-02-01       310   \n",
       "\n",
       "      helpful_yes  total_vote  polarity_score  \n",
       "0               0           0            0.00  \n",
       "1               0           0            0.00  \n",
       "2               0           0            0.40  \n",
       "3               0           0            0.65  \n",
       "4               0           0            0.86  \n",
       "...           ...         ...             ...  \n",
       "4910            0           0            0.08  \n",
       "4911            0           0            0.18  \n",
       "4912            0           0            0.85  \n",
       "4913            0           0            0.69  \n",
       "4914            0           0            0.53  \n",
       "\n",
       "[4915 rows x 13 columns]"
      ]
     },
     "execution_count": 62,
     "metadata": {},
     "output_type": "execute_result"
    }
   ],
   "source": [
    "df"
   ]
  },
  {
   "cell_type": "code",
   "execution_count": 63,
   "id": "31256967",
   "metadata": {
    "scrolled": true
   },
   "outputs": [
    {
     "name": "stdout",
     "output_type": "stream",
     "text": [
      "overall\n",
      "1.00   -0.05\n",
      "2.00    0.07\n",
      "3.00    0.18\n",
      "4.00    0.45\n",
      "5.00    0.52\n",
      "Name: polarity_score, dtype: float64\n"
     ]
    }
   ],
   "source": [
    "print(df.groupby(\"overall\")['polarity_score'].mean())"
   ]
  },
  {
   "cell_type": "code",
   "execution_count": 64,
   "id": "925a3e8b",
   "metadata": {},
   "outputs": [],
   "source": [
    "# 4. Feature Engineering"
   ]
  },
  {
   "cell_type": "code",
   "execution_count": 65,
   "id": "3f2e4e2c",
   "metadata": {},
   "outputs": [
    {
     "data": {
      "text/plain": [
       "0    neg\n",
       "1    neg\n",
       "2    pos\n",
       "3    pos\n",
       "4    pos\n",
       "5    neg\n",
       "6    pos\n",
       "7    pos\n",
       "8    neg\n",
       "9    pos\n",
       "Name: reviewText, dtype: object"
      ]
     },
     "execution_count": 65,
     "metadata": {},
     "output_type": "execute_result"
    }
   ],
   "source": [
    "df[\"reviewText\"][0:10].apply(lambda x: \"pos\" if sia.polarity_scores(x)[\"compound\"] > 0 else \"neg\")"
   ]
  },
  {
   "cell_type": "code",
   "execution_count": 66,
   "id": "e6f1c8fa",
   "metadata": {},
   "outputs": [],
   "source": [
    "df[\"sentiment_label\"] = df[\"reviewText\"].apply(lambda x: \"pos\" if sia.polarity_scores(x)[\"compound\"] > 0 else \"neg\")"
   ]
  },
  {
   "cell_type": "code",
   "execution_count": 67,
   "id": "f5febd64",
   "metadata": {},
   "outputs": [
    {
     "data": {
      "text/html": [
       "<div>\n",
       "<style scoped>\n",
       "    .dataframe tbody tr th:only-of-type {\n",
       "        vertical-align: middle;\n",
       "    }\n",
       "\n",
       "    .dataframe tbody tr th {\n",
       "        vertical-align: top;\n",
       "    }\n",
       "\n",
       "    .dataframe thead th {\n",
       "        text-align: right;\n",
       "    }\n",
       "</style>\n",
       "<table border=\"1\" class=\"dataframe\">\n",
       "  <thead>\n",
       "    <tr style=\"text-align: right;\">\n",
       "      <th></th>\n",
       "      <th>reviewerID</th>\n",
       "      <th>asin</th>\n",
       "      <th>reviewerName</th>\n",
       "      <th>helpful</th>\n",
       "      <th>reviewText</th>\n",
       "      <th>overall</th>\n",
       "      <th>summary</th>\n",
       "      <th>unixReviewTime</th>\n",
       "      <th>reviewTime</th>\n",
       "      <th>day_diff</th>\n",
       "      <th>helpful_yes</th>\n",
       "      <th>total_vote</th>\n",
       "      <th>polarity_score</th>\n",
       "      <th>sentiment_label</th>\n",
       "    </tr>\n",
       "  </thead>\n",
       "  <tbody>\n",
       "    <tr>\n",
       "      <th>0</th>\n",
       "      <td>A3SBTW3WS4IQSN</td>\n",
       "      <td>B007WTAJTO</td>\n",
       "      <td>NaN</td>\n",
       "      <td>[0, 0]</td>\n",
       "      <td>issue</td>\n",
       "      <td>4.00</td>\n",
       "      <td>Four Stars</td>\n",
       "      <td>1406073600</td>\n",
       "      <td>2014-07-23</td>\n",
       "      <td>138</td>\n",
       "      <td>0</td>\n",
       "      <td>0</td>\n",
       "      <td>0.00</td>\n",
       "      <td>neg</td>\n",
       "    </tr>\n",
       "    <tr>\n",
       "      <th>1</th>\n",
       "      <td>A18K1ODH1I2MVB</td>\n",
       "      <td>B007WTAJTO</td>\n",
       "      <td>0mie</td>\n",
       "      <td>[0, 0]</td>\n",
       "      <td>purchased device worked advertised never much ...</td>\n",
       "      <td>5.00</td>\n",
       "      <td>MOAR SPACE!!!</td>\n",
       "      <td>1382659200</td>\n",
       "      <td>2013-10-25</td>\n",
       "      <td>409</td>\n",
       "      <td>0</td>\n",
       "      <td>0</td>\n",
       "      <td>0.00</td>\n",
       "      <td>neg</td>\n",
       "    </tr>\n",
       "    <tr>\n",
       "      <th>2</th>\n",
       "      <td>A2FII3I2MBMUIA</td>\n",
       "      <td>B007WTAJTO</td>\n",
       "      <td>1K3</td>\n",
       "      <td>[0, 0]</td>\n",
       "      <td>work expected higher capacity think made bit e...</td>\n",
       "      <td>4.00</td>\n",
       "      <td>nothing to really say....</td>\n",
       "      <td>1356220800</td>\n",
       "      <td>2012-12-23</td>\n",
       "      <td>715</td>\n",
       "      <td>0</td>\n",
       "      <td>0</td>\n",
       "      <td>0.40</td>\n",
       "      <td>pos</td>\n",
       "    </tr>\n",
       "    <tr>\n",
       "      <th>3</th>\n",
       "      <td>A3H99DFEG68SR</td>\n",
       "      <td>B007WTAJTO</td>\n",
       "      <td>1m2</td>\n",
       "      <td>[0, 0]</td>\n",
       "      <td>think worked gb card went south one held prett...</td>\n",
       "      <td>5.00</td>\n",
       "      <td>Great buy at this price!!!  *** UPDATE</td>\n",
       "      <td>1384992000</td>\n",
       "      <td>2013-11-21</td>\n",
       "      <td>382</td>\n",
       "      <td>0</td>\n",
       "      <td>0</td>\n",
       "      <td>0.65</td>\n",
       "      <td>pos</td>\n",
       "    </tr>\n",
       "    <tr>\n",
       "      <th>4</th>\n",
       "      <td>A375ZM4U047O79</td>\n",
       "      <td>B007WTAJTO</td>\n",
       "      <td>2&amp;amp;1/2Men</td>\n",
       "      <td>[0, 0]</td>\n",
       "      <td>bought retail packaging arrived legit envelope...</td>\n",
       "      <td>5.00</td>\n",
       "      <td>best deal around</td>\n",
       "      <td>1373673600</td>\n",
       "      <td>2013-07-13</td>\n",
       "      <td>513</td>\n",
       "      <td>0</td>\n",
       "      <td>0</td>\n",
       "      <td>0.86</td>\n",
       "      <td>pos</td>\n",
       "    </tr>\n",
       "    <tr>\n",
       "      <th>...</th>\n",
       "      <td>...</td>\n",
       "      <td>...</td>\n",
       "      <td>...</td>\n",
       "      <td>...</td>\n",
       "      <td>...</td>\n",
       "      <td>...</td>\n",
       "      <td>...</td>\n",
       "      <td>...</td>\n",
       "      <td>...</td>\n",
       "      <td>...</td>\n",
       "      <td>...</td>\n",
       "      <td>...</td>\n",
       "      <td>...</td>\n",
       "      <td>...</td>\n",
       "    </tr>\n",
       "    <tr>\n",
       "      <th>4910</th>\n",
       "      <td>A2LBMKXRM5H2W9</td>\n",
       "      <td>B007WTAJTO</td>\n",
       "      <td>ZM \"J\"</td>\n",
       "      <td>[0, 0]</td>\n",
       "      <td>bought sandisk gb class use htc inspire month ...</td>\n",
       "      <td>1.00</td>\n",
       "      <td>Do not waste your money.</td>\n",
       "      <td>1374537600</td>\n",
       "      <td>2013-07-23</td>\n",
       "      <td>503</td>\n",
       "      <td>0</td>\n",
       "      <td>0</td>\n",
       "      <td>0.08</td>\n",
       "      <td>pos</td>\n",
       "    </tr>\n",
       "    <tr>\n",
       "      <th>4911</th>\n",
       "      <td>ALGDLRUI1ZPCS</td>\n",
       "      <td>B007WTAJTO</td>\n",
       "      <td>Zo</td>\n",
       "      <td>[0, 0]</td>\n",
       "      <td>used capability samsung galaxy note greatly ex...</td>\n",
       "      <td>5.00</td>\n",
       "      <td>Great item!</td>\n",
       "      <td>1377129600</td>\n",
       "      <td>2013-08-22</td>\n",
       "      <td>473</td>\n",
       "      <td>0</td>\n",
       "      <td>0</td>\n",
       "      <td>0.18</td>\n",
       "      <td>pos</td>\n",
       "    </tr>\n",
       "    <tr>\n",
       "      <th>4912</th>\n",
       "      <td>A2MR1NI0ENW2AD</td>\n",
       "      <td>B007WTAJTO</td>\n",
       "      <td>Z S Liske</td>\n",
       "      <td>[0, 0]</td>\n",
       "      <td>great card fast reliable come optional adapter...</td>\n",
       "      <td>5.00</td>\n",
       "      <td>Fast and reliable memory card</td>\n",
       "      <td>1396224000</td>\n",
       "      <td>2014-03-31</td>\n",
       "      <td>252</td>\n",
       "      <td>0</td>\n",
       "      <td>0</td>\n",
       "      <td>0.85</td>\n",
       "      <td>pos</td>\n",
       "    </tr>\n",
       "    <tr>\n",
       "      <th>4913</th>\n",
       "      <td>A37E6P3DSO9QJD</td>\n",
       "      <td>B007WTAJTO</td>\n",
       "      <td>Z Taylor</td>\n",
       "      <td>[0, 0]</td>\n",
       "      <td>good amount space stuff want fit gopro say</td>\n",
       "      <td>5.00</td>\n",
       "      <td>Great little card</td>\n",
       "      <td>1379289600</td>\n",
       "      <td>2013-09-16</td>\n",
       "      <td>448</td>\n",
       "      <td>0</td>\n",
       "      <td>0</td>\n",
       "      <td>0.69</td>\n",
       "      <td>pos</td>\n",
       "    </tr>\n",
       "    <tr>\n",
       "      <th>4914</th>\n",
       "      <td>A8KGFTFQ86IBR</td>\n",
       "      <td>B007WTAJTO</td>\n",
       "      <td>Zza</td>\n",
       "      <td>[0, 0]</td>\n",
       "      <td>ive heard bad thing gb micro sd card crapping ...</td>\n",
       "      <td>5.00</td>\n",
       "      <td>So far so good.</td>\n",
       "      <td>1388620800</td>\n",
       "      <td>2014-02-01</td>\n",
       "      <td>310</td>\n",
       "      <td>0</td>\n",
       "      <td>0</td>\n",
       "      <td>0.53</td>\n",
       "      <td>pos</td>\n",
       "    </tr>\n",
       "  </tbody>\n",
       "</table>\n",
       "<p>4915 rows × 14 columns</p>\n",
       "</div>"
      ],
      "text/plain": [
       "          reviewerID        asin  reviewerName helpful                                         reviewText  overall                                 summary  unixReviewTime  reviewTime  day_diff  \\\n",
       "0     A3SBTW3WS4IQSN  B007WTAJTO           NaN  [0, 0]                                              issue     4.00                              Four Stars      1406073600  2014-07-23       138   \n",
       "1     A18K1ODH1I2MVB  B007WTAJTO          0mie  [0, 0]  purchased device worked advertised never much ...     5.00                           MOAR SPACE!!!      1382659200  2013-10-25       409   \n",
       "2     A2FII3I2MBMUIA  B007WTAJTO           1K3  [0, 0]  work expected higher capacity think made bit e...     4.00               nothing to really say....      1356220800  2012-12-23       715   \n",
       "3      A3H99DFEG68SR  B007WTAJTO           1m2  [0, 0]  think worked gb card went south one held prett...     5.00  Great buy at this price!!!  *** UPDATE      1384992000  2013-11-21       382   \n",
       "4     A375ZM4U047O79  B007WTAJTO  2&amp;1/2Men  [0, 0]  bought retail packaging arrived legit envelope...     5.00                        best deal around      1373673600  2013-07-13       513   \n",
       "...              ...         ...           ...     ...                                                ...      ...                                     ...             ...         ...       ...   \n",
       "4910  A2LBMKXRM5H2W9  B007WTAJTO        ZM \"J\"  [0, 0]  bought sandisk gb class use htc inspire month ...     1.00                Do not waste your money.      1374537600  2013-07-23       503   \n",
       "4911   ALGDLRUI1ZPCS  B007WTAJTO            Zo  [0, 0]  used capability samsung galaxy note greatly ex...     5.00                             Great item!      1377129600  2013-08-22       473   \n",
       "4912  A2MR1NI0ENW2AD  B007WTAJTO     Z S Liske  [0, 0]  great card fast reliable come optional adapter...     5.00           Fast and reliable memory card      1396224000  2014-03-31       252   \n",
       "4913  A37E6P3DSO9QJD  B007WTAJTO      Z Taylor  [0, 0]         good amount space stuff want fit gopro say     5.00                       Great little card      1379289600  2013-09-16       448   \n",
       "4914   A8KGFTFQ86IBR  B007WTAJTO           Zza  [0, 0]  ive heard bad thing gb micro sd card crapping ...     5.00                         So far so good.      1388620800  2014-02-01       310   \n",
       "\n",
       "      helpful_yes  total_vote  polarity_score sentiment_label  \n",
       "0               0           0            0.00             neg  \n",
       "1               0           0            0.00             neg  \n",
       "2               0           0            0.40             pos  \n",
       "3               0           0            0.65             pos  \n",
       "4               0           0            0.86             pos  \n",
       "...           ...         ...             ...             ...  \n",
       "4910            0           0            0.08             pos  \n",
       "4911            0           0            0.18             pos  \n",
       "4912            0           0            0.85             pos  \n",
       "4913            0           0            0.69             pos  \n",
       "4914            0           0            0.53             pos  \n",
       "\n",
       "[4915 rows x 14 columns]"
      ]
     },
     "execution_count": 67,
     "metadata": {},
     "output_type": "execute_result"
    }
   ],
   "source": [
    "df"
   ]
  },
  {
   "cell_type": "code",
   "execution_count": 68,
   "id": "f3f93ddd",
   "metadata": {},
   "outputs": [
    {
     "data": {
      "text/plain": [
       "sentiment_label\n",
       "pos    3944\n",
       "neg     971\n",
       "Name: count, dtype: int64"
      ]
     },
     "execution_count": 68,
     "metadata": {},
     "output_type": "execute_result"
    }
   ],
   "source": [
    "df[\"sentiment_label\"].value_counts()"
   ]
  },
  {
   "cell_type": "code",
   "execution_count": 69,
   "id": "c74aae24",
   "metadata": {},
   "outputs": [
    {
     "data": {
      "text/plain": [
       "sentiment_label\n",
       "neg   4.09\n",
       "pos   4.71\n",
       "Name: overall, dtype: float64"
      ]
     },
     "execution_count": 69,
     "metadata": {},
     "output_type": "execute_result"
    }
   ],
   "source": [
    "df.groupby(\"sentiment_label\")[\"overall\"].mean()"
   ]
  },
  {
   "cell_type": "code",
   "execution_count": 70,
   "id": "a08249d7",
   "metadata": {},
   "outputs": [],
   "source": [
    "df[\"sentiment_label\"] = LabelEncoder().fit_transform(df[\"sentiment_label\"])"
   ]
  },
  {
   "cell_type": "code",
   "execution_count": 71,
   "id": "3e2e6ff6",
   "metadata": {},
   "outputs": [],
   "source": [
    "y = df[\"sentiment_label\"]\n",
    "X = df[\"reviewText\"]"
   ]
  },
  {
   "cell_type": "code",
   "execution_count": 72,
   "id": "5de9fb3c",
   "metadata": {},
   "outputs": [],
   "source": [
    "# Count Vectors\n",
    "###############################\n",
    "\n",
    "# Count Vectors: frekans temsiller\n",
    "# TF-IDF Vectors: normalize edilmiş frekans temsiller\n",
    "# Word Embeddings (Word2Vec, GloVe, BERT vs)\n",
    "\n",
    "# metinleri matematiksel işlemlere sokabilmek için kullanılan yöntemler\n",
    "\n",
    "# words\n",
    "# kelimelerin nümerik temsilleri\n",
    "\n",
    "# characters\n",
    "# karakterlerin numerik temsilleri\n",
    "\n",
    "# ngram\n",
    "a = \"\"\"Bu örneği anlaşılabilmesi için daha uzun bir metin üzerinden göstereceğim.\n",
    "N-gram'lar birlikte kullanılan kelimelerin kombinasyolarını gösterir ve feature üretmek için kullanılır\"\"\""
   ]
  },
  {
   "cell_type": "code",
   "execution_count": 74,
   "id": "f82c26f9",
   "metadata": {},
   "outputs": [
    {
     "data": {
      "text/plain": [
       "[WordList(['Bu', 'örneği', 'anlaşılabilmesi']),\n",
       " WordList(['örneği', 'anlaşılabilmesi', 'için']),\n",
       " WordList(['anlaşılabilmesi', 'için', 'daha']),\n",
       " WordList(['için', 'daha', 'uzun']),\n",
       " WordList(['daha', 'uzun', 'bir']),\n",
       " WordList(['uzun', 'bir', 'metin']),\n",
       " WordList(['bir', 'metin', 'üzerinden']),\n",
       " WordList(['metin', 'üzerinden', 'göstereceğim']),\n",
       " WordList(['üzerinden', 'göstereceğim', \"N-gram'lar\"]),\n",
       " WordList(['göstereceğim', \"N-gram'lar\", 'birlikte']),\n",
       " WordList([\"N-gram'lar\", 'birlikte', 'kullanılan']),\n",
       " WordList(['birlikte', 'kullanılan', 'kelimelerin']),\n",
       " WordList(['kullanılan', 'kelimelerin', 'kombinasyolarını']),\n",
       " WordList(['kelimelerin', 'kombinasyolarını', 'gösterir']),\n",
       " WordList(['kombinasyolarını', 'gösterir', 've']),\n",
       " WordList(['gösterir', 've', 'feature']),\n",
       " WordList(['ve', 'feature', 'üretmek']),\n",
       " WordList(['feature', 'üretmek', 'için']),\n",
       " WordList(['üretmek', 'için', 'kullanılır'])]"
      ]
     },
     "execution_count": 74,
     "metadata": {},
     "output_type": "execute_result"
    }
   ],
   "source": [
    "TextBlob(a).ngrams(3) # kelimeleri öbeklendirme"
   ]
  },
  {
   "cell_type": "code",
   "execution_count": 75,
   "id": "566b3b0d",
   "metadata": {},
   "outputs": [],
   "source": [
    "# Count Vectors"
   ]
  },
  {
   "cell_type": "code",
   "execution_count": 76,
   "id": "0fab1059",
   "metadata": {},
   "outputs": [],
   "source": [
    "from sklearn.feature_extraction.text import CountVectorizer"
   ]
  },
  {
   "cell_type": "code",
   "execution_count": 77,
   "id": "9b135efd",
   "metadata": {},
   "outputs": [],
   "source": [
    "corpus = ['This is the first document.',\n",
    "          'This document is the second document.',\n",
    "          'And this is the third one.',\n",
    "          'Is this the first document?']"
   ]
  },
  {
   "cell_type": "code",
   "execution_count": 101,
   "id": "1771b939",
   "metadata": {},
   "outputs": [],
   "source": [
    "from sklearn.feature_extraction.text import CountVectorizer\n",
    "\n",
    "vectorizer = CountVectorizer(ngram_range=(1, 1))\n",
    "X_c = vectorizer.fit_transform(corpus)\n",
    "feature_names = vectorizer.get_feature_names_out()  # Eski get_feature_names() yerine get_feature_names_out() kullanın\n",
    "X_c_array = X_c.toarray()"
   ]
  },
  {
   "cell_type": "code",
   "execution_count": 102,
   "id": "c292f714",
   "metadata": {},
   "outputs": [],
   "source": [
    "# [\"and\" , \"document\", \"first\" , \"is\" , \"one\" , \"second\" , \"the\", \"third\" , \"this\"]"
   ]
  },
  {
   "cell_type": "code",
   "execution_count": 103,
   "id": "d50b855c",
   "metadata": {},
   "outputs": [
    {
     "name": "stdout",
     "output_type": "stream",
     "text": [
      "  (0, 8)\t1\n",
      "  (0, 3)\t1\n",
      "  (0, 6)\t1\n",
      "  (0, 2)\t1\n",
      "  (0, 1)\t1\n",
      "  (1, 8)\t1\n",
      "  (1, 3)\t1\n",
      "  (1, 6)\t1\n",
      "  (1, 1)\t2\n",
      "  (1, 5)\t1\n",
      "  (2, 8)\t1\n",
      "  (2, 3)\t1\n",
      "  (2, 6)\t1\n",
      "  (2, 0)\t1\n",
      "  (2, 7)\t1\n",
      "  (2, 4)\t1\n",
      "  (3, 8)\t1\n",
      "  (3, 3)\t1\n",
      "  (3, 6)\t1\n",
      "  (3, 2)\t1\n",
      "  (3, 1)\t1\n"
     ]
    }
   ],
   "source": [
    "print(X_c)"
   ]
  },
  {
   "cell_type": "code",
   "execution_count": 105,
   "id": "8039aa44",
   "metadata": {},
   "outputs": [
    {
     "data": {
      "text/plain": [
       "array(['and', 'document', 'first', 'is', 'one', 'second', 'the', 'third',\n",
       "       'this'], dtype=object)"
      ]
     },
     "execution_count": 105,
     "metadata": {},
     "output_type": "execute_result"
    }
   ],
   "source": [
    "feature_names"
   ]
  },
  {
   "cell_type": "code",
   "execution_count": 106,
   "id": "554bed2b",
   "metadata": {},
   "outputs": [
    {
     "data": {
      "text/plain": [
       "array([[0, 1, 1, 1, 0, 0, 1, 0, 1],\n",
       "       [0, 2, 0, 1, 0, 1, 1, 0, 1],\n",
       "       [1, 0, 0, 1, 1, 0, 1, 1, 1],\n",
       "       [0, 1, 1, 1, 0, 0, 1, 0, 1]], dtype=int64)"
      ]
     },
     "execution_count": 106,
     "metadata": {},
     "output_type": "execute_result"
    }
   ],
   "source": [
    "X_c_array"
   ]
  },
  {
   "cell_type": "code",
   "execution_count": 107,
   "id": "d495d5aa",
   "metadata": {},
   "outputs": [],
   "source": [
    "# n-gram frekans\n",
    "vectorizer2 = CountVectorizer(analyzer='word', ngram_range=(2, 2))\n",
    "X_n = vectorizer2.fit_transform(corpus)\n",
    "feature_names = vectorizer2.get_feature_names_out()  # Eski get_feature_names() yerine get_feature_names_out() kullanın\n",
    "X_n_array = X_n.toarray()"
   ]
  },
  {
   "cell_type": "code",
   "execution_count": 108,
   "id": "b18c0856",
   "metadata": {},
   "outputs": [
    {
     "data": {
      "text/plain": [
       "array(['and this', 'document is', 'first document', 'is the', 'is this',\n",
       "       'second document', 'the first', 'the second', 'the third',\n",
       "       'third one', 'this document', 'this is', 'this the'], dtype=object)"
      ]
     },
     "execution_count": 108,
     "metadata": {},
     "output_type": "execute_result"
    }
   ],
   "source": [
    "feature_names"
   ]
  },
  {
   "cell_type": "code",
   "execution_count": 112,
   "id": "c7350580",
   "metadata": {},
   "outputs": [
    {
     "data": {
      "text/plain": [
       "array([[0, 0, 1, 1, 0, 0, 1, 0, 0, 0, 0, 1, 0],\n",
       "       [0, 1, 0, 1, 0, 1, 0, 1, 0, 0, 1, 0, 0],\n",
       "       [1, 0, 0, 1, 0, 0, 0, 0, 1, 1, 0, 1, 0],\n",
       "       [0, 0, 1, 0, 1, 0, 1, 0, 0, 0, 0, 0, 1]], dtype=int64)"
      ]
     },
     "execution_count": 112,
     "metadata": {},
     "output_type": "execute_result"
    }
   ],
   "source": [
    "X_n_array"
   ]
  },
  {
   "cell_type": "markdown",
   "id": "4a1c8c99",
   "metadata": {},
   "source": [
    "****************"
   ]
  },
  {
   "cell_type": "code",
   "execution_count": 118,
   "id": "c80cf3b5",
   "metadata": {},
   "outputs": [],
   "source": [
    "vectorizer = CountVectorizer()\n",
    "X_count = vectorizer.fit_transform(X)"
   ]
  },
  {
   "cell_type": "code",
   "execution_count": 119,
   "id": "a853a50a",
   "metadata": {},
   "outputs": [
    {
     "name": "stdout",
     "output_type": "stream",
     "text": [
      "  (0, 1639)\t1\n",
      "  (1, 2470)\t1\n",
      "  (1, 813)\t1\n",
      "  (1, 3601)\t1\n",
      "  (1, 60)\t1\n",
      "  (1, 2051)\t1\n",
      "  (1, 2007)\t1\n",
      "  (1, 2275)\t1\n",
      "  (1, 1911)\t1\n",
      "  (1, 2932)\t1\n",
      "  (1, 881)\t1\n",
      "  (1, 1808)\t1\n",
      "  (1, 3110)\t1\n",
      "  (1, 347)\t1\n",
      "  (2, 3600)\t1\n",
      "  (2, 1075)\t1\n",
      "  (2, 1457)\t1\n",
      "  (2, 423)\t1\n",
      "  (2, 3242)\t1\n",
      "  (2, 1830)\t1\n",
      "  (2, 300)\t1\n",
      "  (2, 927)\t1\n",
      "  (2, 3475)\t1\n",
      "  (2, 2209)\t1\n",
      "  (2, 1797)\t1\n",
      "  :\t:\n",
      "  (4913, 3507)\t1\n",
      "  (4913, 3017)\t1\n",
      "  (4913, 1180)\t1\n",
      "  (4913, 2790)\t1\n",
      "  (4913, 118)\t1\n",
      "  (4913, 1345)\t1\n",
      "  (4914, 1295)\t1\n",
      "  (4914, 430)\t1\n",
      "  (4914, 1658)\t1\n",
      "  (4914, 1756)\t1\n",
      "  (4914, 2402)\t1\n",
      "  (4914, 2812)\t1\n",
      "  (4914, 3308)\t1\n",
      "  (4914, 1340)\t1\n",
      "  (4914, 3017)\t1\n",
      "  (4914, 3035)\t1\n",
      "  (4914, 2576)\t1\n",
      "  (4914, 1426)\t1\n",
      "  (4914, 1126)\t1\n",
      "  (4914, 1931)\t1\n",
      "  (4914, 2080)\t1\n",
      "  (4914, 3241)\t1\n",
      "  (4914, 238)\t1\n",
      "  (4914, 3539)\t1\n",
      "  (4914, 689)\t1\n"
     ]
    }
   ],
   "source": [
    "print(X_count)"
   ]
  },
  {
   "cell_type": "code",
   "execution_count": 120,
   "id": "e2ee4616",
   "metadata": {},
   "outputs": [
    {
     "name": "stdout",
     "output_type": "stream",
     "text": [
      "['access' 'accessed' 'accessible' 'accessing' 'accessory']\n"
     ]
    }
   ],
   "source": [
    "print(vectorizer.get_feature_names_out()[10:15])"
   ]
  },
  {
   "cell_type": "code",
   "execution_count": 121,
   "id": "642b1242",
   "metadata": {},
   "outputs": [
    {
     "data": {
      "text/plain": [
       "array([[0, 0, 0, ..., 0, 0, 0],\n",
       "       [0, 0, 0, ..., 0, 0, 0],\n",
       "       [0, 0, 0, ..., 0, 0, 0],\n",
       "       [0, 0, 0, ..., 0, 0, 0],\n",
       "       [0, 0, 0, ..., 0, 0, 0]], dtype=int64)"
      ]
     },
     "execution_count": 121,
     "metadata": {},
     "output_type": "execute_result"
    }
   ],
   "source": [
    "X_count.toarray()[10:15]"
   ]
  },
  {
   "cell_type": "markdown",
   "id": "8ab74651",
   "metadata": {},
   "source": [
    "*************"
   ]
  },
  {
   "cell_type": "code",
   "execution_count": null,
   "id": "7469cfbc",
   "metadata": {},
   "outputs": [],
   "source": [
    "# TF-IDF"
   ]
  },
  {
   "cell_type": "markdown",
   "id": "a3d18d77",
   "metadata": {},
   "source": [
    "TF-IDF (Term Frequency-Inverse Document Frequency), metin madenciliği ve bilgi erişimi alanlarında yaygın olarak kullanılan bir ağırlıklandırma yöntemidir. Bu yöntem, kelimelerin bir belge veya bir koleksiyon içindeki önemini ölçmek için kullanılır. TF-IDF, bir kelimenin önemini hem o belgede ne kadar sık geçtiğiyle hem de tüm koleksiyondaki genel yaygınlığıyla değerlendirir.\n",
    "\n",
    "TF-IDF'nin iki ana bileşeni vardır:\n",
    "\n",
    "### 1. Term Frequency (TF) - Terim Frekansı\n",
    "\n",
    "Terim frekansı, bir kelimenin belirli bir belgede kaç kez geçtiğini ölçer. Genellikle bu, kelimenin belgede geçen toplam kelime sayısına bölünmesiyle hesaplanır. Formülü şu şekildedir:\n",
    "\n",
    "\\[ \\text{TF}(t, d) = \\frac{\\text{Sayısal Occurrence of } t \\text{ in } d}{\\text{Total Number of Terms in } d} \\]\n",
    "\n",
    "- \\( t \\) = kelime (terim)\n",
    "- \\( d \\) = belge\n",
    "\n",
    "Bu formül, kelimenin belgedeki önemini değerlendirir. Ancak sadece belgedeki sıklığına bakmak yeterli değildir, çünkü bazı kelimeler tüm belgelerde sıkça bulunabilir.\n",
    "\n",
    "### 2. Inverse Document Frequency (IDF) - Ters Belge Frekansı\n",
    "\n",
    "Ters belge frekansı, bir kelimenin tüm koleksiyon içindeki nadirliğini ölçer. Eğer bir kelime koleksiyon içinde birçok belgede geçiyorsa, bu kelime genellikle daha az bilgi verici olarak kabul edilir. Formülü şu şekildedir:\n",
    "\n",
    "\\[ \\text{IDF}(t, D) = \\log \\frac{\\text{Total Number of Documents}}{\\text{Number of Documents Containing } t} \\]\n",
    "\n",
    "- \\( t \\) = kelime (terim)\n",
    "- \\( D \\) = tüm belge koleksiyonu\n",
    "\n",
    "Bu formül, kelimenin koleksiyon içindeki genel yaygınlığını ölçer ve nadir kelimeleri öne çıkarır.\n",
    "\n",
    "### TF-IDF Hesaplama\n",
    "\n",
    "TF ve IDF değerlerinin çarpımı, kelimenin belgedeki önemini ölçen TF-IDF değerini verir. Formülü şu şekildedir:\n",
    "\n",
    "\\[ \\text{TF-IDF}(t, d, D) = \\text{TF}(t, d) \\times \\text{IDF}(t, D) \\]\n",
    "\n",
    "Bu formül, bir kelimenin hem belgede ne kadar sık geçtiğini hem de tüm koleksiyon içindeki yaygınlığını dikkate alarak kelimenin önemini hesaplar.\n",
    "\n",
    "### Örnek\n",
    "\n",
    "Bir koleksiyon içinde \"veri bilimi\" terimi şu şekilde hesaplanabilir:\n",
    "\n",
    "1. **TF (Term Frequency):** Eğer \"veri bilimi\" terimi bir belgede 5 kez geçiyorsa ve belge içindeki toplam kelime sayısı 100 ise, TF değeri 5/100 = 0.05 olur.\n",
    "\n",
    "2. **IDF (Inverse Document Frequency):** Eğer \"veri bilimi\" terimi koleksiyon içindeki 10 belgeden 3'ünde geçiyorsa ve toplamda 100 belge varsa, IDF değeri şöyle hesaplanır:\n",
    "\n",
    "   \\[\n",
    "   \\text{IDF}(\\text{\"veri bilimi\"}) = \\log \\frac{100}{3} \\approx 1.52\n",
    "   \\]\n",
    "\n",
    "3. **TF-IDF:** TF ve IDF değerlerini çarparız:\n",
    "\n",
    "   \\[\n",
    "   \\text{TF-IDF}(\\text{\"veri bilimi\"}) = 0.05 \\times 1.52 = 0.076\n",
    "   \\]\n",
    "\n",
    "Bu hesaplamalar, \"veri bilimi\" teriminin bu belgede önemli bir terim olup olmadığını değerlendirir. TF-IDF, belge içindeki kelimelerin önemini daha doğru bir şekilde anlamanızı sağlar."
   ]
  },
  {
   "cell_type": "code",
   "execution_count": 122,
   "id": "8d3ace3c",
   "metadata": {},
   "outputs": [],
   "source": [
    "from sklearn.feature_extraction.text import TfidfVectorizer\n",
    "tf_idf_word_vectorizer = TfidfVectorizer()"
   ]
  },
  {
   "cell_type": "code",
   "execution_count": 123,
   "id": "e6343450",
   "metadata": {},
   "outputs": [],
   "source": [
    "X_tf_idf_word = tf_idf_word_vectorizer.fit_transform(X)"
   ]
  },
  {
   "cell_type": "code",
   "execution_count": 125,
   "id": "1f3555c1",
   "metadata": {},
   "outputs": [],
   "source": [
    "tf_idf_ngram_vectorizer = TfidfVectorizer(ngram_range=(2, 3))\n",
    "X_tf_idf_ngram = tf_idf_ngram_vectorizer.fit_transform(X)"
   ]
  },
  {
   "cell_type": "code",
   "execution_count": 127,
   "id": "8758c663",
   "metadata": {},
   "outputs": [],
   "source": [
    "# 5. Sentiment Modeling"
   ]
  },
  {
   "cell_type": "code",
   "execution_count": 128,
   "id": "cc0860c8",
   "metadata": {},
   "outputs": [],
   "source": [
    "# 1. Text Preprocessing\n",
    "# 2. Text Visualization\n",
    "# 3. Sentiment Analysis\n",
    "# 4. Feature Engineering\n",
    "# 5. Sentiment Modeling"
   ]
  },
  {
   "cell_type": "code",
   "execution_count": 129,
   "id": "f4921f33",
   "metadata": {},
   "outputs": [],
   "source": [
    "# Logistic Regression"
   ]
  },
  {
   "cell_type": "code",
   "execution_count": 130,
   "id": "78fe3e75",
   "metadata": {},
   "outputs": [],
   "source": [
    "log_model = LogisticRegression().fit(X_tf_idf_word, y)"
   ]
  },
  {
   "cell_type": "code",
   "execution_count": 131,
   "id": "9ea79c21",
   "metadata": {},
   "outputs": [
    {
     "data": {
      "text/plain": [
       "0.830111902339776"
      ]
     },
     "execution_count": 131,
     "metadata": {},
     "output_type": "execute_result"
    }
   ],
   "source": [
    "cross_val_score(log_model,\n",
    "                X_tf_idf_word,\n",
    "                y,\n",
    "                scoring=\"accuracy\",\n",
    "                cv=5).mean()"
   ]
  },
  {
   "cell_type": "code",
   "execution_count": 147,
   "id": "d5f9bf95",
   "metadata": {},
   "outputs": [],
   "source": [
    "#new_review = pd.Series(\"this product is great\")\n",
    "#new_review = pd.Series(\"look at that shit very bad\")\n",
    "new_review = pd.Series(\"it was good but I am sure that it fits me\")"
   ]
  },
  {
   "cell_type": "code",
   "execution_count": 148,
   "id": "d217eb40",
   "metadata": {},
   "outputs": [],
   "source": [
    "new_review = TfidfVectorizer().fit(X).transform(new_review)"
   ]
  },
  {
   "cell_type": "code",
   "execution_count": 149,
   "id": "8e231c29",
   "metadata": {},
   "outputs": [
    {
     "data": {
      "text/plain": [
       "array([1])"
      ]
     },
     "execution_count": 149,
     "metadata": {},
     "output_type": "execute_result"
    }
   ],
   "source": [
    "log_model.predict(new_review)"
   ]
  },
  {
   "cell_type": "code",
   "execution_count": 150,
   "id": "8e0127ca",
   "metadata": {},
   "outputs": [],
   "source": [
    "random_review = pd.Series(df[\"reviewText\"].sample(1).values)"
   ]
  },
  {
   "cell_type": "code",
   "execution_count": 151,
   "id": "c58d8302",
   "metadata": {},
   "outputs": [],
   "source": [
    "new_review = TfidfVectorizer().fit(X).transform(random_review)"
   ]
  },
  {
   "cell_type": "code",
   "execution_count": 152,
   "id": "1dc4aeb4",
   "metadata": {},
   "outputs": [
    {
     "data": {
      "text/plain": [
       "array([1])"
      ]
     },
     "execution_count": 152,
     "metadata": {},
     "output_type": "execute_result"
    }
   ],
   "source": [
    "log_model.predict(new_review)"
   ]
  },
  {
   "cell_type": "code",
   "execution_count": 153,
   "id": "1f9f4d13",
   "metadata": {},
   "outputs": [],
   "source": [
    "# Random Forests"
   ]
  },
  {
   "cell_type": "code",
   "execution_count": 154,
   "id": "d89558a6",
   "metadata": {},
   "outputs": [
    {
     "data": {
      "text/plain": [
       "0.8390640895218718"
      ]
     },
     "execution_count": 154,
     "metadata": {},
     "output_type": "execute_result"
    }
   ],
   "source": [
    "# Count Vectors\n",
    "rf_model = RandomForestClassifier().fit(X_count, y)\n",
    "cross_val_score(rf_model, X_count, y, cv=5, n_jobs=-1).mean()"
   ]
  },
  {
   "cell_type": "code",
   "execution_count": 155,
   "id": "f9273490",
   "metadata": {},
   "outputs": [
    {
     "data": {
      "text/plain": [
       "0.8272634791454732"
      ]
     },
     "execution_count": 155,
     "metadata": {},
     "output_type": "execute_result"
    }
   ],
   "source": [
    "# TF-IDF Word-Level\n",
    "rf_model = RandomForestClassifier().fit(X_tf_idf_word, y)\n",
    "cross_val_score(rf_model, X_tf_idf_word, y, cv=5, n_jobs=-1).mean()"
   ]
  },
  {
   "cell_type": "code",
   "execution_count": 156,
   "id": "f7f73821",
   "metadata": {},
   "outputs": [
    {
     "data": {
      "text/plain": [
       "0.7837232960325534"
      ]
     },
     "execution_count": 156,
     "metadata": {},
     "output_type": "execute_result"
    }
   ],
   "source": [
    "# TF-IDF N-GRAM\n",
    "rf_model = RandomForestClassifier().fit(X_tf_idf_ngram, y)\n",
    "cross_val_score(rf_model, X_tf_idf_ngram, y, cv=5, n_jobs=-1).mean()"
   ]
  },
  {
   "cell_type": "code",
   "execution_count": 157,
   "id": "df69ebdf",
   "metadata": {},
   "outputs": [],
   "source": [
    "# Hiperparametre Optimizasyonu"
   ]
  },
  {
   "cell_type": "code",
   "execution_count": 158,
   "id": "fd1f44be",
   "metadata": {},
   "outputs": [],
   "source": [
    "rf_model = RandomForestClassifier(random_state=17)"
   ]
  },
  {
   "cell_type": "code",
   "execution_count": 159,
   "id": "2b335f5e",
   "metadata": {},
   "outputs": [],
   "source": [
    "rf_params = {\"max_depth\": [8, None],\n",
    "             \"max_features\": [7, \"auto\"],\n",
    "             \"min_samples_split\": [2, 5, 8],\n",
    "             \"n_estimators\": [100, 200]}"
   ]
  },
  {
   "cell_type": "code",
   "execution_count": 160,
   "id": "100721a8",
   "metadata": {},
   "outputs": [
    {
     "name": "stdout",
     "output_type": "stream",
     "text": [
      "Fitting 5 folds for each of 24 candidates, totalling 120 fits\n"
     ]
    }
   ],
   "source": [
    "rf_best_grid = GridSearchCV(rf_model,\n",
    "                            rf_params,\n",
    "                            cv=5,\n",
    "                            n_jobs=-1,\n",
    "                            verbose=1).fit(X_count, y)"
   ]
  },
  {
   "cell_type": "code",
   "execution_count": 161,
   "id": "3f09337d",
   "metadata": {},
   "outputs": [
    {
     "data": {
      "text/plain": [
       "{'max_depth': None,\n",
       " 'max_features': 7,\n",
       " 'min_samples_split': 2,\n",
       " 'n_estimators': 100}"
      ]
     },
     "execution_count": 161,
     "metadata": {},
     "output_type": "execute_result"
    }
   ],
   "source": [
    "rf_best_grid.best_params_"
   ]
  },
  {
   "cell_type": "code",
   "execution_count": 162,
   "id": "4c86a041",
   "metadata": {},
   "outputs": [],
   "source": [
    "rf_final = rf_model.set_params(**rf_best_grid.best_params_, random_state=17).fit(X_count, y)"
   ]
  },
  {
   "cell_type": "code",
   "execution_count": 163,
   "id": "e9a7bbf3",
   "metadata": {},
   "outputs": [
    {
     "data": {
      "text/plain": [
       "0.8130213631739572"
      ]
     },
     "execution_count": 163,
     "metadata": {},
     "output_type": "execute_result"
    }
   ],
   "source": [
    "cross_val_score(rf_final, X_count, y, cv=5, n_jobs=-1).mean()"
   ]
  }
 ],
 "metadata": {
  "kernelspec": {
   "display_name": "Python 3 (ipykernel)",
   "language": "python",
   "name": "python3"
  },
  "language_info": {
   "codemirror_mode": {
    "name": "ipython",
    "version": 3
   },
   "file_extension": ".py",
   "mimetype": "text/x-python",
   "name": "python",
   "nbconvert_exporter": "python",
   "pygments_lexer": "ipython3",
   "version": "3.11.7"
  }
 },
 "nbformat": 4,
 "nbformat_minor": 5
}
